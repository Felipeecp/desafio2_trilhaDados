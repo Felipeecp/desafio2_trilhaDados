{
 "cells": [
  {
   "cell_type": "markdown",
   "source": [
    "# Tabela 8 - Valor médio e quartis do rensidemnto mensal total domicilar per capita nominal, por situação do domicilio."
   ],
   "metadata": {}
  },
  {
   "cell_type": "markdown",
   "source": [
    "# Importando dados"
   ],
   "metadata": {}
  },
  {
   "cell_type": "code",
   "execution_count": 2,
   "source": [
    "import pandas as pd\r\n"
   ],
   "outputs": [],
   "metadata": {}
  },
  {
   "cell_type": "code",
   "execution_count": 3,
   "source": [
    "tab8A = pd.read_excel('Dados/tab8.xls')\r\n",
    "tab8A.head(15)"
   ],
   "outputs": [
    {
     "output_type": "execute_result",
     "data": {
      "text/html": [
       "<div>\n",
       "<style scoped>\n",
       "    .dataframe tbody tr th:only-of-type {\n",
       "        vertical-align: middle;\n",
       "    }\n",
       "\n",
       "    .dataframe tbody tr th {\n",
       "        vertical-align: top;\n",
       "    }\n",
       "\n",
       "    .dataframe thead th {\n",
       "        text-align: right;\n",
       "    }\n",
       "</style>\n",
       "<table border=\"1\" class=\"dataframe\">\n",
       "  <thead>\n",
       "    <tr style=\"text-align: right;\">\n",
       "      <th></th>\n",
       "      <th>Unnamed: 0</th>\n",
       "      <th>Tabela 8 - Valor médio e quartis do rendimento mensal total domiciliar per capita nominal,</th>\n",
       "      <th>Unnamed: 2</th>\n",
       "      <th>Unnamed: 3</th>\n",
       "      <th>Unnamed: 4</th>\n",
       "      <th>Unnamed: 5</th>\n",
       "    </tr>\n",
       "  </thead>\n",
       "  <tbody>\n",
       "    <tr>\n",
       "      <th>0</th>\n",
       "      <td>NaN</td>\n",
       "      <td>por situação do domicílio, segundo os municípi...</td>\n",
       "      <td>NaN</td>\n",
       "      <td>NaN</td>\n",
       "      <td>NaN</td>\n",
       "      <td>NaN</td>\n",
       "    </tr>\n",
       "    <tr>\n",
       "      <th>1</th>\n",
       "      <td>NaN</td>\n",
       "      <td>população dos municípios - Maranhão - 2010</td>\n",
       "      <td>NaN</td>\n",
       "      <td>NaN</td>\n",
       "      <td>NaN</td>\n",
       "      <td>NaN</td>\n",
       "    </tr>\n",
       "    <tr>\n",
       "      <th>2</th>\n",
       "      <td>NaN</td>\n",
       "      <td>NaN</td>\n",
       "      <td>NaN</td>\n",
       "      <td>NaN</td>\n",
       "      <td>NaN</td>\n",
       "      <td>(continua)</td>\n",
       "    </tr>\n",
       "    <tr>\n",
       "      <th>3</th>\n",
       "      <td>Código do município</td>\n",
       "      <td>Municípios e classes de tamanho da população d...</td>\n",
       "      <td>Rendimento mensal total domiciliar per capita ...</td>\n",
       "      <td>NaN</td>\n",
       "      <td>NaN</td>\n",
       "      <td>NaN</td>\n",
       "    </tr>\n",
       "    <tr>\n",
       "      <th>4</th>\n",
       "      <td>NaN</td>\n",
       "      <td>NaN</td>\n",
       "      <td>Valor médio\\n(R$)</td>\n",
       "      <td>Quartis (R$)</td>\n",
       "      <td>NaN</td>\n",
       "      <td>NaN</td>\n",
       "    </tr>\n",
       "    <tr>\n",
       "      <th>5</th>\n",
       "      <td>NaN</td>\n",
       "      <td>NaN</td>\n",
       "      <td>NaN</td>\n",
       "      <td>1º quartil</td>\n",
       "      <td>2º quartil\\n(mediana)</td>\n",
       "      <td>3º quartil</td>\n",
       "    </tr>\n",
       "    <tr>\n",
       "      <th>6</th>\n",
       "      <td>NaN</td>\n",
       "      <td>Total</td>\n",
       "      <td>NaN</td>\n",
       "      <td>NaN</td>\n",
       "      <td>NaN</td>\n",
       "      <td>NaN</td>\n",
       "    </tr>\n",
       "    <tr>\n",
       "      <th>7</th>\n",
       "      <td>NaN</td>\n",
       "      <td>Maranhão</td>\n",
       "      <td>319</td>\n",
       "      <td>85</td>\n",
       "      <td>170</td>\n",
       "      <td>340</td>\n",
       "    </tr>\n",
       "    <tr>\n",
       "      <th>8</th>\n",
       "      <td>NaN</td>\n",
       "      <td>Até 5.000</td>\n",
       "      <td>245</td>\n",
       "      <td>62</td>\n",
       "      <td>143</td>\n",
       "      <td>274</td>\n",
       "    </tr>\n",
       "    <tr>\n",
       "      <th>9</th>\n",
       "      <td>2105658</td>\n",
       "      <td>Junco do Maranhão</td>\n",
       "      <td>209</td>\n",
       "      <td>75</td>\n",
       "      <td>138</td>\n",
       "      <td>255</td>\n",
       "    </tr>\n",
       "    <tr>\n",
       "      <th>10</th>\n",
       "      <td>2107258</td>\n",
       "      <td>Nova Colinas</td>\n",
       "      <td>200</td>\n",
       "      <td>34</td>\n",
       "      <td>120</td>\n",
       "      <td>255</td>\n",
       "    </tr>\n",
       "    <tr>\n",
       "      <th>11</th>\n",
       "      <td>2107308</td>\n",
       "      <td>Nova Iorque</td>\n",
       "      <td>248</td>\n",
       "      <td>60</td>\n",
       "      <td>153</td>\n",
       "      <td>306</td>\n",
       "    </tr>\n",
       "    <tr>\n",
       "      <th>12</th>\n",
       "      <td>2110807</td>\n",
       "      <td>São Félix de Balsas</td>\n",
       "      <td>340</td>\n",
       "      <td>54</td>\n",
       "      <td>130</td>\n",
       "      <td>262</td>\n",
       "    </tr>\n",
       "    <tr>\n",
       "      <th>13</th>\n",
       "      <td>2111573</td>\n",
       "      <td>São Pedro dos Crentes</td>\n",
       "      <td>254</td>\n",
       "      <td>78</td>\n",
       "      <td>159</td>\n",
       "      <td>313</td>\n",
       "    </tr>\n",
       "    <tr>\n",
       "      <th>14</th>\n",
       "      <td>2111953</td>\n",
       "      <td>Sucupira do Riachão</td>\n",
       "      <td>211</td>\n",
       "      <td>71</td>\n",
       "      <td>147</td>\n",
       "      <td>256</td>\n",
       "    </tr>\n",
       "  </tbody>\n",
       "</table>\n",
       "</div>"
      ],
      "text/plain": [
       "             Unnamed: 0  \\\n",
       "0                   NaN   \n",
       "1                   NaN   \n",
       "2                   NaN   \n",
       "3   Código do município   \n",
       "4                   NaN   \n",
       "5                   NaN   \n",
       "6                   NaN   \n",
       "7                   NaN   \n",
       "8                   NaN   \n",
       "9               2105658   \n",
       "10              2107258   \n",
       "11              2107308   \n",
       "12              2110807   \n",
       "13              2111573   \n",
       "14              2111953   \n",
       "\n",
       "   Tabela 8 - Valor médio e quartis do rendimento mensal total domiciliar per capita nominal,  \\\n",
       "0   por situação do domicílio, segundo os municípi...                                           \n",
       "1          população dos municípios - Maranhão - 2010                                           \n",
       "2                                                 NaN                                           \n",
       "3   Municípios e classes de tamanho da população d...                                           \n",
       "4                                                 NaN                                           \n",
       "5                                                 NaN                                           \n",
       "6                                               Total                                           \n",
       "7                                            Maranhão                                           \n",
       "8                                          Até 5.000                                            \n",
       "9                                   Junco do Maranhão                                           \n",
       "10                                       Nova Colinas                                           \n",
       "11                                        Nova Iorque                                           \n",
       "12                                São Félix de Balsas                                           \n",
       "13                              São Pedro dos Crentes                                           \n",
       "14                                Sucupira do Riachão                                           \n",
       "\n",
       "                                           Unnamed: 2    Unnamed: 3  \\\n",
       "0                                                 NaN           NaN   \n",
       "1                                                 NaN           NaN   \n",
       "2                                                 NaN           NaN   \n",
       "3   Rendimento mensal total domiciliar per capita ...           NaN   \n",
       "4                                   Valor médio\\n(R$)  Quartis (R$)   \n",
       "5                                                 NaN    1º quartil   \n",
       "6                                                 NaN           NaN   \n",
       "7                                                 319            85   \n",
       "8                                                 245            62   \n",
       "9                                                 209            75   \n",
       "10                                                200            34   \n",
       "11                                                248            60   \n",
       "12                                                340            54   \n",
       "13                                                254            78   \n",
       "14                                                211            71   \n",
       "\n",
       "               Unnamed: 4  Unnamed: 5  \n",
       "0                     NaN         NaN  \n",
       "1                     NaN         NaN  \n",
       "2                     NaN  (continua)  \n",
       "3                     NaN         NaN  \n",
       "4                     NaN         NaN  \n",
       "5   2º quartil\\n(mediana)  3º quartil  \n",
       "6                     NaN         NaN  \n",
       "7                     170         340  \n",
       "8                     143         274  \n",
       "9                     138         255  \n",
       "10                    120         255  \n",
       "11                    153         306  \n",
       "12                    130         262  \n",
       "13                    159         313  \n",
       "14                    147         256  "
      ]
     },
     "metadata": {},
     "execution_count": 3
    }
   ],
   "metadata": {}
  },
  {
   "cell_type": "markdown",
   "source": [
    "# Informações do dataset antes do tratamento"
   ],
   "metadata": {}
  },
  {
   "cell_type": "code",
   "execution_count": 4,
   "source": [
    "print(f'O atual dataset tem {tab8A.shape[0]} linhas e {tab8A.shape[1]} colunas')\r\n",
    "print(f'O atual dataset tem {tab8A.isna().sum().sum()} dados nulos')\r\n",
    "tab8A.dtypes"
   ],
   "outputs": [
    {
     "output_type": "stream",
     "name": "stdout",
     "text": [
      "O atual dataset tem 234 linhas e 6 colunas\n",
      "O atual dataset tem 49 dados nulos\n"
     ]
    },
    {
     "output_type": "execute_result",
     "data": {
      "text/plain": [
       "Unnamed: 0                                                                                    object\n",
       "Tabela 8 - Valor médio e quartis do rendimento mensal total domiciliar per capita nominal,    object\n",
       "Unnamed: 2                                                                                    object\n",
       "Unnamed: 3                                                                                    object\n",
       "Unnamed: 4                                                                                    object\n",
       "Unnamed: 5                                                                                    object\n",
       "dtype: object"
      ]
     },
     "metadata": {},
     "execution_count": 4
    }
   ],
   "metadata": {}
  },
  {
   "cell_type": "markdown",
   "source": [
    "**Para tratar esse dataset, inicialmente é possivel observar que será necessario:**\r\n",
    "* renomear as colunas;\r\n",
    "* eliminar os dados nulos; \r\n",
    "* corrigir tipo dos dados de algumas colunas."
   ],
   "metadata": {}
  },
  {
   "cell_type": "markdown",
   "source": [
    "# Tratando dataset"
   ],
   "metadata": {}
  },
  {
   "cell_type": "markdown",
   "source": [
    "## Observando linhas com dados nulos"
   ],
   "metadata": {}
  },
  {
   "cell_type": "code",
   "execution_count": 5,
   "source": [
    "dados_nulos = tab8A[tab8A.isna().any(axis=1)]\r\n",
    "dados_nulos"
   ],
   "outputs": [
    {
     "output_type": "execute_result",
     "data": {
      "text/html": [
       "<div>\n",
       "<style scoped>\n",
       "    .dataframe tbody tr th:only-of-type {\n",
       "        vertical-align: middle;\n",
       "    }\n",
       "\n",
       "    .dataframe tbody tr th {\n",
       "        vertical-align: top;\n",
       "    }\n",
       "\n",
       "    .dataframe thead th {\n",
       "        text-align: right;\n",
       "    }\n",
       "</style>\n",
       "<table border=\"1\" class=\"dataframe\">\n",
       "  <thead>\n",
       "    <tr style=\"text-align: right;\">\n",
       "      <th></th>\n",
       "      <th>Unnamed: 0</th>\n",
       "      <th>Tabela 8 - Valor médio e quartis do rendimento mensal total domiciliar per capita nominal,</th>\n",
       "      <th>Unnamed: 2</th>\n",
       "      <th>Unnamed: 3</th>\n",
       "      <th>Unnamed: 4</th>\n",
       "      <th>Unnamed: 5</th>\n",
       "    </tr>\n",
       "  </thead>\n",
       "  <tbody>\n",
       "    <tr>\n",
       "      <th>0</th>\n",
       "      <td>NaN</td>\n",
       "      <td>por situação do domicílio, segundo os municípi...</td>\n",
       "      <td>NaN</td>\n",
       "      <td>NaN</td>\n",
       "      <td>NaN</td>\n",
       "      <td>NaN</td>\n",
       "    </tr>\n",
       "    <tr>\n",
       "      <th>1</th>\n",
       "      <td>NaN</td>\n",
       "      <td>população dos municípios - Maranhão - 2010</td>\n",
       "      <td>NaN</td>\n",
       "      <td>NaN</td>\n",
       "      <td>NaN</td>\n",
       "      <td>NaN</td>\n",
       "    </tr>\n",
       "    <tr>\n",
       "      <th>2</th>\n",
       "      <td>NaN</td>\n",
       "      <td>NaN</td>\n",
       "      <td>NaN</td>\n",
       "      <td>NaN</td>\n",
       "      <td>NaN</td>\n",
       "      <td>(continua)</td>\n",
       "    </tr>\n",
       "    <tr>\n",
       "      <th>3</th>\n",
       "      <td>Código do município</td>\n",
       "      <td>Municípios e classes de tamanho da população d...</td>\n",
       "      <td>Rendimento mensal total domiciliar per capita ...</td>\n",
       "      <td>NaN</td>\n",
       "      <td>NaN</td>\n",
       "      <td>NaN</td>\n",
       "    </tr>\n",
       "    <tr>\n",
       "      <th>4</th>\n",
       "      <td>NaN</td>\n",
       "      <td>NaN</td>\n",
       "      <td>Valor médio\\n(R$)</td>\n",
       "      <td>Quartis (R$)</td>\n",
       "      <td>NaN</td>\n",
       "      <td>NaN</td>\n",
       "    </tr>\n",
       "    <tr>\n",
       "      <th>5</th>\n",
       "      <td>NaN</td>\n",
       "      <td>NaN</td>\n",
       "      <td>NaN</td>\n",
       "      <td>1º quartil</td>\n",
       "      <td>2º quartil\\n(mediana)</td>\n",
       "      <td>3º quartil</td>\n",
       "    </tr>\n",
       "    <tr>\n",
       "      <th>6</th>\n",
       "      <td>NaN</td>\n",
       "      <td>Total</td>\n",
       "      <td>NaN</td>\n",
       "      <td>NaN</td>\n",
       "      <td>NaN</td>\n",
       "      <td>NaN</td>\n",
       "    </tr>\n",
       "    <tr>\n",
       "      <th>7</th>\n",
       "      <td>NaN</td>\n",
       "      <td>Maranhão</td>\n",
       "      <td>319</td>\n",
       "      <td>85</td>\n",
       "      <td>170</td>\n",
       "      <td>340</td>\n",
       "    </tr>\n",
       "    <tr>\n",
       "      <th>8</th>\n",
       "      <td>NaN</td>\n",
       "      <td>Até 5.000</td>\n",
       "      <td>245</td>\n",
       "      <td>62</td>\n",
       "      <td>143</td>\n",
       "      <td>274</td>\n",
       "    </tr>\n",
       "    <tr>\n",
       "      <th>15</th>\n",
       "      <td>NaN</td>\n",
       "      <td>De 5.001 a 10.000</td>\n",
       "      <td>189</td>\n",
       "      <td>45</td>\n",
       "      <td>120</td>\n",
       "      <td>236</td>\n",
       "    </tr>\n",
       "    <tr>\n",
       "      <th>48</th>\n",
       "      <td>NaN</td>\n",
       "      <td>De 10.001 a 20.000</td>\n",
       "      <td>201</td>\n",
       "      <td>55</td>\n",
       "      <td>128</td>\n",
       "      <td>251</td>\n",
       "    </tr>\n",
       "    <tr>\n",
       "      <th>138</th>\n",
       "      <td>NaN</td>\n",
       "      <td>De 20.001 a 50.000</td>\n",
       "      <td>222</td>\n",
       "      <td>63</td>\n",
       "      <td>134</td>\n",
       "      <td>255</td>\n",
       "    </tr>\n",
       "    <tr>\n",
       "      <th>207</th>\n",
       "      <td>NaN</td>\n",
       "      <td>De 50.001 a 100.000</td>\n",
       "      <td>266</td>\n",
       "      <td>79</td>\n",
       "      <td>160</td>\n",
       "      <td>297</td>\n",
       "    </tr>\n",
       "    <tr>\n",
       "      <th>221</th>\n",
       "      <td>NaN</td>\n",
       "      <td>De 100.001 a 500.000</td>\n",
       "      <td>373</td>\n",
       "      <td>128</td>\n",
       "      <td>226</td>\n",
       "      <td>405</td>\n",
       "    </tr>\n",
       "    <tr>\n",
       "      <th>230</th>\n",
       "      <td>NaN</td>\n",
       "      <td>Mais de 500.000</td>\n",
       "      <td>653</td>\n",
       "      <td>175</td>\n",
       "      <td>329</td>\n",
       "      <td>630</td>\n",
       "    </tr>\n",
       "    <tr>\n",
       "      <th>232</th>\n",
       "      <td>NaN</td>\n",
       "      <td>NaN</td>\n",
       "      <td>NaN</td>\n",
       "      <td>NaN</td>\n",
       "      <td>NaN</td>\n",
       "      <td>NaN</td>\n",
       "    </tr>\n",
       "    <tr>\n",
       "      <th>233</th>\n",
       "      <td>Fonte: IBGE, Censo Demográfico 2010. Resultado...</td>\n",
       "      <td>NaN</td>\n",
       "      <td>NaN</td>\n",
       "      <td>NaN</td>\n",
       "      <td>NaN</td>\n",
       "      <td>NaN</td>\n",
       "    </tr>\n",
       "  </tbody>\n",
       "</table>\n",
       "</div>"
      ],
      "text/plain": [
       "                                            Unnamed: 0  \\\n",
       "0                                                  NaN   \n",
       "1                                                  NaN   \n",
       "2                                                  NaN   \n",
       "3                                  Código do município   \n",
       "4                                                  NaN   \n",
       "5                                                  NaN   \n",
       "6                                                  NaN   \n",
       "7                                                  NaN   \n",
       "8                                                  NaN   \n",
       "15                                                 NaN   \n",
       "48                                                 NaN   \n",
       "138                                                NaN   \n",
       "207                                                NaN   \n",
       "221                                                NaN   \n",
       "230                                                NaN   \n",
       "232                                                NaN   \n",
       "233  Fonte: IBGE, Censo Demográfico 2010. Resultado...   \n",
       "\n",
       "    Tabela 8 - Valor médio e quartis do rendimento mensal total domiciliar per capita nominal,  \\\n",
       "0    por situação do domicílio, segundo os municípi...                                           \n",
       "1           população dos municípios - Maranhão - 2010                                           \n",
       "2                                                  NaN                                           \n",
       "3    Municípios e classes de tamanho da população d...                                           \n",
       "4                                                  NaN                                           \n",
       "5                                                  NaN                                           \n",
       "6                                                Total                                           \n",
       "7                                             Maranhão                                           \n",
       "8                                           Até 5.000                                            \n",
       "15                                  De 5.001 a 10.000                                            \n",
       "48                                 De 10.001 a 20.000                                            \n",
       "138                                De 20.001 a 50.000                                            \n",
       "207                               De 50.001 a 100.000                                            \n",
       "221                              De 100.001 a 500.000                                            \n",
       "230                                   Mais de 500.000                                            \n",
       "232                                                NaN                                           \n",
       "233                                                NaN                                           \n",
       "\n",
       "                                            Unnamed: 2    Unnamed: 3  \\\n",
       "0                                                  NaN           NaN   \n",
       "1                                                  NaN           NaN   \n",
       "2                                                  NaN           NaN   \n",
       "3    Rendimento mensal total domiciliar per capita ...           NaN   \n",
       "4                                    Valor médio\\n(R$)  Quartis (R$)   \n",
       "5                                                  NaN    1º quartil   \n",
       "6                                                  NaN           NaN   \n",
       "7                                                  319            85   \n",
       "8                                                  245            62   \n",
       "15                                                 189            45   \n",
       "48                                                 201            55   \n",
       "138                                                222            63   \n",
       "207                                                266            79   \n",
       "221                                                373           128   \n",
       "230                                                653           175   \n",
       "232                                                NaN           NaN   \n",
       "233                                                NaN           NaN   \n",
       "\n",
       "                Unnamed: 4  Unnamed: 5  \n",
       "0                      NaN         NaN  \n",
       "1                      NaN         NaN  \n",
       "2                      NaN  (continua)  \n",
       "3                      NaN         NaN  \n",
       "4                      NaN         NaN  \n",
       "5    2º quartil\\n(mediana)  3º quartil  \n",
       "6                      NaN         NaN  \n",
       "7                      170         340  \n",
       "8                      143         274  \n",
       "15                     120         236  \n",
       "48                     128         251  \n",
       "138                    134         255  \n",
       "207                    160         297  \n",
       "221                    226         405  \n",
       "230                    329         630  \n",
       "232                    NaN         NaN  \n",
       "233                    NaN         NaN  "
      ]
     },
     "metadata": {},
     "execution_count": 5
    }
   ],
   "metadata": {}
  },
  {
   "cell_type": "markdown",
   "source": [
    "As linhas com intervalos podem ser guardadas em um DataFrame a parte e as demais linhas com dados nulos podem ser removidas sem afetas drasticamente o Data Frame"
   ],
   "metadata": {}
  },
  {
   "cell_type": "markdown",
   "source": [
    "## Guardando linha de intervalos em um Data Frame"
   ],
   "metadata": {}
  },
  {
   "cell_type": "code",
   "execution_count": 6,
   "source": [
    "intervalos = dados_nulos.iloc[7:15,1:6]\r\n",
    "intervalos.columns = ['Intervalos','Renda_media','1_quartil','2_quartil','3_quartil']\r\n",
    "intervalos.reset_index(inplace=True,drop=True)\r\n",
    "intervalos"
   ],
   "outputs": [
    {
     "output_type": "execute_result",
     "data": {
      "text/html": [
       "<div>\n",
       "<style scoped>\n",
       "    .dataframe tbody tr th:only-of-type {\n",
       "        vertical-align: middle;\n",
       "    }\n",
       "\n",
       "    .dataframe tbody tr th {\n",
       "        vertical-align: top;\n",
       "    }\n",
       "\n",
       "    .dataframe thead th {\n",
       "        text-align: right;\n",
       "    }\n",
       "</style>\n",
       "<table border=\"1\" class=\"dataframe\">\n",
       "  <thead>\n",
       "    <tr style=\"text-align: right;\">\n",
       "      <th></th>\n",
       "      <th>Intervalos</th>\n",
       "      <th>Renda_media</th>\n",
       "      <th>1_quartil</th>\n",
       "      <th>2_quartil</th>\n",
       "      <th>3_quartil</th>\n",
       "    </tr>\n",
       "  </thead>\n",
       "  <tbody>\n",
       "    <tr>\n",
       "      <th>0</th>\n",
       "      <td>Maranhão</td>\n",
       "      <td>319</td>\n",
       "      <td>85</td>\n",
       "      <td>170</td>\n",
       "      <td>340</td>\n",
       "    </tr>\n",
       "    <tr>\n",
       "      <th>1</th>\n",
       "      <td>Até 5.000</td>\n",
       "      <td>245</td>\n",
       "      <td>62</td>\n",
       "      <td>143</td>\n",
       "      <td>274</td>\n",
       "    </tr>\n",
       "    <tr>\n",
       "      <th>2</th>\n",
       "      <td>De 5.001 a 10.000</td>\n",
       "      <td>189</td>\n",
       "      <td>45</td>\n",
       "      <td>120</td>\n",
       "      <td>236</td>\n",
       "    </tr>\n",
       "    <tr>\n",
       "      <th>3</th>\n",
       "      <td>De 10.001 a 20.000</td>\n",
       "      <td>201</td>\n",
       "      <td>55</td>\n",
       "      <td>128</td>\n",
       "      <td>251</td>\n",
       "    </tr>\n",
       "    <tr>\n",
       "      <th>4</th>\n",
       "      <td>De 20.001 a 50.000</td>\n",
       "      <td>222</td>\n",
       "      <td>63</td>\n",
       "      <td>134</td>\n",
       "      <td>255</td>\n",
       "    </tr>\n",
       "    <tr>\n",
       "      <th>5</th>\n",
       "      <td>De 50.001 a 100.000</td>\n",
       "      <td>266</td>\n",
       "      <td>79</td>\n",
       "      <td>160</td>\n",
       "      <td>297</td>\n",
       "    </tr>\n",
       "    <tr>\n",
       "      <th>6</th>\n",
       "      <td>De 100.001 a 500.000</td>\n",
       "      <td>373</td>\n",
       "      <td>128</td>\n",
       "      <td>226</td>\n",
       "      <td>405</td>\n",
       "    </tr>\n",
       "    <tr>\n",
       "      <th>7</th>\n",
       "      <td>Mais de 500.000</td>\n",
       "      <td>653</td>\n",
       "      <td>175</td>\n",
       "      <td>329</td>\n",
       "      <td>630</td>\n",
       "    </tr>\n",
       "  </tbody>\n",
       "</table>\n",
       "</div>"
      ],
      "text/plain": [
       "              Intervalos Renda_media 1_quartil 2_quartil 3_quartil\n",
       "0               Maranhão         319        85       170       340\n",
       "1             Até 5.000          245        62       143       274\n",
       "2     De 5.001 a 10.000          189        45       120       236\n",
       "3    De 10.001 a 20.000          201        55       128       251\n",
       "4    De 20.001 a 50.000          222        63       134       255\n",
       "5   De 50.001 a 100.000          266        79       160       297\n",
       "6  De 100.001 a 500.000          373       128       226       405\n",
       "7       Mais de 500.000          653       175       329       630"
      ]
     },
     "metadata": {},
     "execution_count": 6
    }
   ],
   "metadata": {}
  },
  {
   "cell_type": "markdown",
   "source": [
    "## Removendo linhas com dados nulos"
   ],
   "metadata": {}
  },
  {
   "cell_type": "code",
   "execution_count": 7,
   "source": [
    "tab8A.dropna(inplace=True)"
   ],
   "outputs": [],
   "metadata": {}
  },
  {
   "cell_type": "code",
   "execution_count": 8,
   "source": [
    "tab8A.head()"
   ],
   "outputs": [
    {
     "output_type": "execute_result",
     "data": {
      "text/html": [
       "<div>\n",
       "<style scoped>\n",
       "    .dataframe tbody tr th:only-of-type {\n",
       "        vertical-align: middle;\n",
       "    }\n",
       "\n",
       "    .dataframe tbody tr th {\n",
       "        vertical-align: top;\n",
       "    }\n",
       "\n",
       "    .dataframe thead th {\n",
       "        text-align: right;\n",
       "    }\n",
       "</style>\n",
       "<table border=\"1\" class=\"dataframe\">\n",
       "  <thead>\n",
       "    <tr style=\"text-align: right;\">\n",
       "      <th></th>\n",
       "      <th>Unnamed: 0</th>\n",
       "      <th>Tabela 8 - Valor médio e quartis do rendimento mensal total domiciliar per capita nominal,</th>\n",
       "      <th>Unnamed: 2</th>\n",
       "      <th>Unnamed: 3</th>\n",
       "      <th>Unnamed: 4</th>\n",
       "      <th>Unnamed: 5</th>\n",
       "    </tr>\n",
       "  </thead>\n",
       "  <tbody>\n",
       "    <tr>\n",
       "      <th>9</th>\n",
       "      <td>2105658</td>\n",
       "      <td>Junco do Maranhão</td>\n",
       "      <td>209</td>\n",
       "      <td>75</td>\n",
       "      <td>138</td>\n",
       "      <td>255</td>\n",
       "    </tr>\n",
       "    <tr>\n",
       "      <th>10</th>\n",
       "      <td>2107258</td>\n",
       "      <td>Nova Colinas</td>\n",
       "      <td>200</td>\n",
       "      <td>34</td>\n",
       "      <td>120</td>\n",
       "      <td>255</td>\n",
       "    </tr>\n",
       "    <tr>\n",
       "      <th>11</th>\n",
       "      <td>2107308</td>\n",
       "      <td>Nova Iorque</td>\n",
       "      <td>248</td>\n",
       "      <td>60</td>\n",
       "      <td>153</td>\n",
       "      <td>306</td>\n",
       "    </tr>\n",
       "    <tr>\n",
       "      <th>12</th>\n",
       "      <td>2110807</td>\n",
       "      <td>São Félix de Balsas</td>\n",
       "      <td>340</td>\n",
       "      <td>54</td>\n",
       "      <td>130</td>\n",
       "      <td>262</td>\n",
       "    </tr>\n",
       "    <tr>\n",
       "      <th>13</th>\n",
       "      <td>2111573</td>\n",
       "      <td>São Pedro dos Crentes</td>\n",
       "      <td>254</td>\n",
       "      <td>78</td>\n",
       "      <td>159</td>\n",
       "      <td>313</td>\n",
       "    </tr>\n",
       "  </tbody>\n",
       "</table>\n",
       "</div>"
      ],
      "text/plain": [
       "   Unnamed: 0  \\\n",
       "9     2105658   \n",
       "10    2107258   \n",
       "11    2107308   \n",
       "12    2110807   \n",
       "13    2111573   \n",
       "\n",
       "   Tabela 8 - Valor médio e quartis do rendimento mensal total domiciliar per capita nominal,  \\\n",
       "9                                   Junco do Maranhão                                           \n",
       "10                                       Nova Colinas                                           \n",
       "11                                        Nova Iorque                                           \n",
       "12                                São Félix de Balsas                                           \n",
       "13                              São Pedro dos Crentes                                           \n",
       "\n",
       "   Unnamed: 2 Unnamed: 3 Unnamed: 4 Unnamed: 5  \n",
       "9         209         75        138        255  \n",
       "10        200         34        120        255  \n",
       "11        248         60        153        306  \n",
       "12        340         54        130        262  \n",
       "13        254         78        159        313  "
      ]
     },
     "metadata": {},
     "execution_count": 8
    }
   ],
   "metadata": {}
  },
  {
   "cell_type": "markdown",
   "source": [
    "## Renomeando colunas"
   ],
   "metadata": {}
  },
  {
   "cell_type": "code",
   "execution_count": 9,
   "source": [
    "colunas  = ['codigo_municipio','nome_municipio','renda_media','quartil_1','quartil_2','quartil_3']\r\n",
    "tab8A.columns = colunas\r\n",
    "tab8A.reset_index(inplace=True,drop=True)\r\n",
    "tab8A.head()"
   ],
   "outputs": [
    {
     "output_type": "execute_result",
     "data": {
      "text/html": [
       "<div>\n",
       "<style scoped>\n",
       "    .dataframe tbody tr th:only-of-type {\n",
       "        vertical-align: middle;\n",
       "    }\n",
       "\n",
       "    .dataframe tbody tr th {\n",
       "        vertical-align: top;\n",
       "    }\n",
       "\n",
       "    .dataframe thead th {\n",
       "        text-align: right;\n",
       "    }\n",
       "</style>\n",
       "<table border=\"1\" class=\"dataframe\">\n",
       "  <thead>\n",
       "    <tr style=\"text-align: right;\">\n",
       "      <th></th>\n",
       "      <th>codigo_municipio</th>\n",
       "      <th>nome_municipio</th>\n",
       "      <th>renda_media</th>\n",
       "      <th>quartil_1</th>\n",
       "      <th>quartil_2</th>\n",
       "      <th>quartil_3</th>\n",
       "    </tr>\n",
       "  </thead>\n",
       "  <tbody>\n",
       "    <tr>\n",
       "      <th>0</th>\n",
       "      <td>2105658</td>\n",
       "      <td>Junco do Maranhão</td>\n",
       "      <td>209</td>\n",
       "      <td>75</td>\n",
       "      <td>138</td>\n",
       "      <td>255</td>\n",
       "    </tr>\n",
       "    <tr>\n",
       "      <th>1</th>\n",
       "      <td>2107258</td>\n",
       "      <td>Nova Colinas</td>\n",
       "      <td>200</td>\n",
       "      <td>34</td>\n",
       "      <td>120</td>\n",
       "      <td>255</td>\n",
       "    </tr>\n",
       "    <tr>\n",
       "      <th>2</th>\n",
       "      <td>2107308</td>\n",
       "      <td>Nova Iorque</td>\n",
       "      <td>248</td>\n",
       "      <td>60</td>\n",
       "      <td>153</td>\n",
       "      <td>306</td>\n",
       "    </tr>\n",
       "    <tr>\n",
       "      <th>3</th>\n",
       "      <td>2110807</td>\n",
       "      <td>São Félix de Balsas</td>\n",
       "      <td>340</td>\n",
       "      <td>54</td>\n",
       "      <td>130</td>\n",
       "      <td>262</td>\n",
       "    </tr>\n",
       "    <tr>\n",
       "      <th>4</th>\n",
       "      <td>2111573</td>\n",
       "      <td>São Pedro dos Crentes</td>\n",
       "      <td>254</td>\n",
       "      <td>78</td>\n",
       "      <td>159</td>\n",
       "      <td>313</td>\n",
       "    </tr>\n",
       "  </tbody>\n",
       "</table>\n",
       "</div>"
      ],
      "text/plain": [
       "  codigo_municipio         nome_municipio renda_media quartil_1 quartil_2  \\\n",
       "0          2105658      Junco do Maranhão         209        75       138   \n",
       "1          2107258           Nova Colinas         200        34       120   \n",
       "2          2107308            Nova Iorque         248        60       153   \n",
       "3          2110807    São Félix de Balsas         340        54       130   \n",
       "4          2111573  São Pedro dos Crentes         254        78       159   \n",
       "\n",
       "  quartil_3  \n",
       "0       255  \n",
       "1       255  \n",
       "2       306  \n",
       "3       262  \n",
       "4       313  "
      ]
     },
     "metadata": {},
     "execution_count": 9
    }
   ],
   "metadata": {}
  },
  {
   "cell_type": "markdown",
   "source": [
    "## corrigindo tipo de dados"
   ],
   "metadata": {}
  },
  {
   "cell_type": "code",
   "execution_count": 10,
   "source": [
    "colunas_numericas = ['renda_media','quartil_1','quartil_2','quartil_3']\r\n",
    "tab8A[colunas_numericas] = tab8A[colunas_numericas].apply(pd.to_numeric, errors='coerce')\r\n",
    "tab8A.dtypes"
   ],
   "outputs": [
    {
     "output_type": "execute_result",
     "data": {
      "text/plain": [
       "codigo_municipio    object\n",
       "nome_municipio      object\n",
       "renda_media          int64\n",
       "quartil_1            int64\n",
       "quartil_2            int64\n",
       "quartil_3            int64\n",
       "dtype: object"
      ]
     },
     "metadata": {},
     "execution_count": 10
    }
   ],
   "metadata": {}
  },
  {
   "cell_type": "markdown",
   "source": [
    "# Informações do dataset após tratamento"
   ],
   "metadata": {}
  },
  {
   "cell_type": "code",
   "execution_count": 11,
   "source": [
    "print(f'O dataset atualmente tem {tab8A.shape[0]} linhas e {tab8A.shape[1]} colunas')\r\n",
    "print(f'O dataset atualmente tem {tab8A.isna().sum().sum()} dados nulos')\r\n",
    "print('\\n Informações do dataset:')\r\n",
    "tab8A.info()"
   ],
   "outputs": [
    {
     "output_type": "stream",
     "name": "stdout",
     "text": [
      "O dataset atualmente tem 217 linhas e 6 colunas\n",
      "O dataset atualmente tem 0 dados nulos\n",
      "\n",
      " Informações do dataset:\n",
      "<class 'pandas.core.frame.DataFrame'>\n",
      "RangeIndex: 217 entries, 0 to 216\n",
      "Data columns (total 6 columns):\n",
      " #   Column            Non-Null Count  Dtype \n",
      "---  ------            --------------  ----- \n",
      " 0   codigo_municipio  217 non-null    object\n",
      " 1   nome_municipio    217 non-null    object\n",
      " 2   renda_media       217 non-null    int64 \n",
      " 3   quartil_1         217 non-null    int64 \n",
      " 4   quartil_2         217 non-null    int64 \n",
      " 5   quartil_3         217 non-null    int64 \n",
      "dtypes: int64(4), object(2)\n",
      "memory usage: 10.3+ KB\n"
     ]
    }
   ],
   "metadata": {}
  },
  {
   "cell_type": "code",
   "execution_count": 12,
   "source": [
    "tab8A.renda_media.max()"
   ],
   "outputs": [
    {
     "output_type": "execute_result",
     "data": {
      "text/plain": [
       "653"
      ]
     },
     "metadata": {},
     "execution_count": 12
    }
   ],
   "metadata": {}
  },
  {
   "cell_type": "code",
   "execution_count": 13,
   "source": [
    "tab8A.renda_media.min()"
   ],
   "outputs": [
    {
     "output_type": "execute_result",
     "data": {
      "text/plain": [
       "116"
      ]
     },
     "metadata": {},
     "execution_count": 13
    }
   ],
   "metadata": {}
  },
  {
   "cell_type": "markdown",
   "source": [
    "## Definindo numero de classes utilizando regra de sturges"
   ],
   "metadata": {}
  },
  {
   "cell_type": "code",
   "execution_count": 14,
   "source": [
    "import numpy as np"
   ],
   "outputs": [],
   "metadata": {}
  },
  {
   "cell_type": "code",
   "execution_count": 15,
   "source": [
    "n = tab8A.shape[0]\r\n",
    "n"
   ],
   "outputs": [
    {
     "output_type": "execute_result",
     "data": {
      "text/plain": [
       "217"
      ]
     },
     "metadata": {},
     "execution_count": 15
    }
   ],
   "metadata": {}
  },
  {
   "cell_type": "code",
   "execution_count": 16,
   "source": [
    "k = 1 + (10/3)*np.log10(n)\r\n",
    "k = int(k.round(0))\r\n",
    "k"
   ],
   "outputs": [
    {
     "output_type": "execute_result",
     "data": {
      "text/plain": [
       "9"
      ]
     },
     "metadata": {},
     "execution_count": 16
    }
   ],
   "metadata": {}
  },
  {
   "cell_type": "markdown",
   "source": [
    "Separar em 9 intervalos"
   ],
   "metadata": {}
  },
  {
   "cell_type": "code",
   "execution_count": 17,
   "source": [
    "labels=list('IHGFEDCBA')\r\n",
    "labels"
   ],
   "outputs": [
    {
     "output_type": "execute_result",
     "data": {
      "text/plain": [
       "['I', 'H', 'G', 'F', 'E', 'D', 'C', 'B', 'A']"
      ]
     },
     "metadata": {},
     "execution_count": 17
    }
   ],
   "metadata": {}
  },
  {
   "cell_type": "code",
   "execution_count": 18,
   "source": [
    "pd.cut(x=tab8A.renda_media, bins=k,include_lowest=True,labels=labels).value_counts(sort=False)"
   ],
   "outputs": [
    {
     "output_type": "execute_result",
     "data": {
      "text/plain": [
       "I    59\n",
       "H    94\n",
       "G    44\n",
       "F    11\n",
       "E     4\n",
       "D     3\n",
       "C     1\n",
       "B     0\n",
       "A     1\n",
       "Name: renda_media, dtype: int64"
      ]
     },
     "metadata": {},
     "execution_count": 18
    }
   ],
   "metadata": {}
  },
  {
   "cell_type": "code",
   "execution_count": 19,
   "source": [
    "pd.Series(pd.cut(x=tab8A.renda_media, bins=k,include_lowest=True)).value_counts(sort=False)"
   ],
   "outputs": [
    {
     "output_type": "execute_result",
     "data": {
      "text/plain": [
       "(115.46199999999999, 175.667]    59\n",
       "(175.667, 235.333]               94\n",
       "(235.333, 295.0]                 44\n",
       "(295.0, 354.667]                 11\n",
       "(354.667, 414.333]                4\n",
       "(414.333, 474.0]                  3\n",
       "(474.0, 533.667]                  1\n",
       "(533.667, 593.333]                0\n",
       "(593.333, 653.0]                  1\n",
       "Name: renda_media, dtype: int64"
      ]
     },
     "metadata": {},
     "execution_count": 19
    }
   ],
   "metadata": {}
  },
  {
   "cell_type": "code",
   "execution_count": 20,
   "source": [
    "tab8A['classe_de_renda'] = pd.Series(pd.cut(x=tab8A.renda_media, bins=k,include_lowest=True,labels=labels))\r\n",
    "tab8A.head()"
   ],
   "outputs": [
    {
     "output_type": "execute_result",
     "data": {
      "text/html": [
       "<div>\n",
       "<style scoped>\n",
       "    .dataframe tbody tr th:only-of-type {\n",
       "        vertical-align: middle;\n",
       "    }\n",
       "\n",
       "    .dataframe tbody tr th {\n",
       "        vertical-align: top;\n",
       "    }\n",
       "\n",
       "    .dataframe thead th {\n",
       "        text-align: right;\n",
       "    }\n",
       "</style>\n",
       "<table border=\"1\" class=\"dataframe\">\n",
       "  <thead>\n",
       "    <tr style=\"text-align: right;\">\n",
       "      <th></th>\n",
       "      <th>codigo_municipio</th>\n",
       "      <th>nome_municipio</th>\n",
       "      <th>renda_media</th>\n",
       "      <th>quartil_1</th>\n",
       "      <th>quartil_2</th>\n",
       "      <th>quartil_3</th>\n",
       "      <th>classe_de_renda</th>\n",
       "    </tr>\n",
       "  </thead>\n",
       "  <tbody>\n",
       "    <tr>\n",
       "      <th>0</th>\n",
       "      <td>2105658</td>\n",
       "      <td>Junco do Maranhão</td>\n",
       "      <td>209</td>\n",
       "      <td>75</td>\n",
       "      <td>138</td>\n",
       "      <td>255</td>\n",
       "      <td>H</td>\n",
       "    </tr>\n",
       "    <tr>\n",
       "      <th>1</th>\n",
       "      <td>2107258</td>\n",
       "      <td>Nova Colinas</td>\n",
       "      <td>200</td>\n",
       "      <td>34</td>\n",
       "      <td>120</td>\n",
       "      <td>255</td>\n",
       "      <td>H</td>\n",
       "    </tr>\n",
       "    <tr>\n",
       "      <th>2</th>\n",
       "      <td>2107308</td>\n",
       "      <td>Nova Iorque</td>\n",
       "      <td>248</td>\n",
       "      <td>60</td>\n",
       "      <td>153</td>\n",
       "      <td>306</td>\n",
       "      <td>G</td>\n",
       "    </tr>\n",
       "    <tr>\n",
       "      <th>3</th>\n",
       "      <td>2110807</td>\n",
       "      <td>São Félix de Balsas</td>\n",
       "      <td>340</td>\n",
       "      <td>54</td>\n",
       "      <td>130</td>\n",
       "      <td>262</td>\n",
       "      <td>F</td>\n",
       "    </tr>\n",
       "    <tr>\n",
       "      <th>4</th>\n",
       "      <td>2111573</td>\n",
       "      <td>São Pedro dos Crentes</td>\n",
       "      <td>254</td>\n",
       "      <td>78</td>\n",
       "      <td>159</td>\n",
       "      <td>313</td>\n",
       "      <td>G</td>\n",
       "    </tr>\n",
       "  </tbody>\n",
       "</table>\n",
       "</div>"
      ],
      "text/plain": [
       "  codigo_municipio         nome_municipio  renda_media  quartil_1  quartil_2  \\\n",
       "0          2105658      Junco do Maranhão          209         75        138   \n",
       "1          2107258           Nova Colinas          200         34        120   \n",
       "2          2107308            Nova Iorque          248         60        153   \n",
       "3          2110807    São Félix de Balsas          340         54        130   \n",
       "4          2111573  São Pedro dos Crentes          254         78        159   \n",
       "\n",
       "   quartil_3 classe_de_renda  \n",
       "0        255               H  \n",
       "1        255               H  \n",
       "2        306               G  \n",
       "3        262               F  \n",
       "4        313               G  "
      ]
     },
     "metadata": {},
     "execution_count": 20
    }
   ],
   "metadata": {}
  },
  {
   "cell_type": "markdown",
   "source": [
    "As classes de F a A tem uma baixa frequência de ocorrencias, por isso decidi juntar elas apenas como classe A e renomeas as restantes para que fique apenas 4 classes de D a A."
   ],
   "metadata": {}
  },
  {
   "cell_type": "code",
   "execution_count": 21,
   "source": [
    "clss = list('FEDCBA')"
   ],
   "outputs": [],
   "metadata": {}
  },
  {
   "cell_type": "code",
   "execution_count": 22,
   "source": [
    "tab8A.classe_de_renda[tab8A['classe_de_renda'].isin(clss)==True] = 'A'"
   ],
   "outputs": [],
   "metadata": {}
  },
  {
   "cell_type": "code",
   "execution_count": 23,
   "source": [
    "tab8A.classe_de_renda[tab8A['classe_de_renda'] == 'G'] = 'B'\r\n",
    "tab8A.classe_de_renda[tab8A['classe_de_renda'] == 'H'] = 'C'\r\n",
    "tab8A.classe_de_renda[tab8A['classe_de_renda'] == 'I'] = 'D'"
   ],
   "outputs": [],
   "metadata": {}
  },
  {
   "cell_type": "code",
   "execution_count": 24,
   "source": [
    "tab8A_final = tab8A\r\n",
    "tab8A_final"
   ],
   "outputs": [
    {
     "output_type": "execute_result",
     "data": {
      "text/html": [
       "<div>\n",
       "<style scoped>\n",
       "    .dataframe tbody tr th:only-of-type {\n",
       "        vertical-align: middle;\n",
       "    }\n",
       "\n",
       "    .dataframe tbody tr th {\n",
       "        vertical-align: top;\n",
       "    }\n",
       "\n",
       "    .dataframe thead th {\n",
       "        text-align: right;\n",
       "    }\n",
       "</style>\n",
       "<table border=\"1\" class=\"dataframe\">\n",
       "  <thead>\n",
       "    <tr style=\"text-align: right;\">\n",
       "      <th></th>\n",
       "      <th>codigo_municipio</th>\n",
       "      <th>nome_municipio</th>\n",
       "      <th>renda_media</th>\n",
       "      <th>quartil_1</th>\n",
       "      <th>quartil_2</th>\n",
       "      <th>quartil_3</th>\n",
       "      <th>classe_de_renda</th>\n",
       "    </tr>\n",
       "  </thead>\n",
       "  <tbody>\n",
       "    <tr>\n",
       "      <th>0</th>\n",
       "      <td>2105658</td>\n",
       "      <td>Junco do Maranhão</td>\n",
       "      <td>209</td>\n",
       "      <td>75</td>\n",
       "      <td>138</td>\n",
       "      <td>255</td>\n",
       "      <td>C</td>\n",
       "    </tr>\n",
       "    <tr>\n",
       "      <th>1</th>\n",
       "      <td>2107258</td>\n",
       "      <td>Nova Colinas</td>\n",
       "      <td>200</td>\n",
       "      <td>34</td>\n",
       "      <td>120</td>\n",
       "      <td>255</td>\n",
       "      <td>C</td>\n",
       "    </tr>\n",
       "    <tr>\n",
       "      <th>2</th>\n",
       "      <td>2107308</td>\n",
       "      <td>Nova Iorque</td>\n",
       "      <td>248</td>\n",
       "      <td>60</td>\n",
       "      <td>153</td>\n",
       "      <td>306</td>\n",
       "      <td>B</td>\n",
       "    </tr>\n",
       "    <tr>\n",
       "      <th>3</th>\n",
       "      <td>2110807</td>\n",
       "      <td>São Félix de Balsas</td>\n",
       "      <td>340</td>\n",
       "      <td>54</td>\n",
       "      <td>130</td>\n",
       "      <td>262</td>\n",
       "      <td>A</td>\n",
       "    </tr>\n",
       "    <tr>\n",
       "      <th>4</th>\n",
       "      <td>2111573</td>\n",
       "      <td>São Pedro dos Crentes</td>\n",
       "      <td>254</td>\n",
       "      <td>78</td>\n",
       "      <td>159</td>\n",
       "      <td>313</td>\n",
       "      <td>B</td>\n",
       "    </tr>\n",
       "    <tr>\n",
       "      <th>...</th>\n",
       "      <td>...</td>\n",
       "      <td>...</td>\n",
       "      <td>...</td>\n",
       "      <td>...</td>\n",
       "      <td>...</td>\n",
       "      <td>...</td>\n",
       "      <td>...</td>\n",
       "    </tr>\n",
       "    <tr>\n",
       "      <th>212</th>\n",
       "      <td>2105302</td>\n",
       "      <td>Imperatriz</td>\n",
       "      <td>527</td>\n",
       "      <td>170</td>\n",
       "      <td>303</td>\n",
       "      <td>510</td>\n",
       "      <td>A</td>\n",
       "    </tr>\n",
       "    <tr>\n",
       "      <th>213</th>\n",
       "      <td>2107506</td>\n",
       "      <td>Paço do Lumiar</td>\n",
       "      <td>384</td>\n",
       "      <td>150</td>\n",
       "      <td>255</td>\n",
       "      <td>467</td>\n",
       "      <td>A</td>\n",
       "    </tr>\n",
       "    <tr>\n",
       "      <th>214</th>\n",
       "      <td>2111201</td>\n",
       "      <td>São José de Ribamar</td>\n",
       "      <td>395</td>\n",
       "      <td>146</td>\n",
       "      <td>253</td>\n",
       "      <td>450</td>\n",
       "      <td>A</td>\n",
       "    </tr>\n",
       "    <tr>\n",
       "      <th>215</th>\n",
       "      <td>2112209</td>\n",
       "      <td>Timon</td>\n",
       "      <td>312</td>\n",
       "      <td>122</td>\n",
       "      <td>204</td>\n",
       "      <td>362</td>\n",
       "      <td>A</td>\n",
       "    </tr>\n",
       "    <tr>\n",
       "      <th>216</th>\n",
       "      <td>2111300</td>\n",
       "      <td>São Luís</td>\n",
       "      <td>653</td>\n",
       "      <td>175</td>\n",
       "      <td>329</td>\n",
       "      <td>630</td>\n",
       "      <td>A</td>\n",
       "    </tr>\n",
       "  </tbody>\n",
       "</table>\n",
       "<p>217 rows × 7 columns</p>\n",
       "</div>"
      ],
      "text/plain": [
       "    codigo_municipio         nome_municipio  renda_media  quartil_1  \\\n",
       "0            2105658      Junco do Maranhão          209         75   \n",
       "1            2107258           Nova Colinas          200         34   \n",
       "2            2107308            Nova Iorque          248         60   \n",
       "3            2110807    São Félix de Balsas          340         54   \n",
       "4            2111573  São Pedro dos Crentes          254         78   \n",
       "..               ...                    ...          ...        ...   \n",
       "212          2105302             Imperatriz          527        170   \n",
       "213          2107506         Paço do Lumiar          384        150   \n",
       "214          2111201    São José de Ribamar          395        146   \n",
       "215          2112209                  Timon          312        122   \n",
       "216          2111300               São Luís          653        175   \n",
       "\n",
       "     quartil_2  quartil_3 classe_de_renda  \n",
       "0          138        255               C  \n",
       "1          120        255               C  \n",
       "2          153        306               B  \n",
       "3          130        262               A  \n",
       "4          159        313               B  \n",
       "..         ...        ...             ...  \n",
       "212        303        510               A  \n",
       "213        255        467               A  \n",
       "214        253        450               A  \n",
       "215        204        362               A  \n",
       "216        329        630               A  \n",
       "\n",
       "[217 rows x 7 columns]"
      ]
     },
     "metadata": {},
     "execution_count": 24
    }
   ],
   "metadata": {}
  },
  {
   "cell_type": "code",
   "execution_count": 34,
   "source": [
    "tab8A_final.classe_de_renda.cat.remove_unused_categories().value_counts()"
   ],
   "outputs": [
    {
     "output_type": "execute_result",
     "data": {
      "text/plain": [
       "C    94\n",
       "D    59\n",
       "B    44\n",
       "A    20\n",
       "Name: classe_de_renda, dtype: int64"
      ]
     },
     "metadata": {},
     "execution_count": 34
    }
   ],
   "metadata": {}
  },
  {
   "cell_type": "markdown",
   "source": [
    "# Exportando dataset para csv"
   ],
   "metadata": {}
  },
  {
   "cell_type": "code",
   "execution_count": 26,
   "source": [
    "tab8A_final.to_csv('dadosLimpos/tab8A.csv',index=False)"
   ],
   "outputs": [],
   "metadata": {}
  },
  {
   "cell_type": "markdown",
   "source": [
    "# Analisando renda"
   ],
   "metadata": {}
  },
  {
   "cell_type": "code",
   "execution_count": 27,
   "source": [
    "import seaborn as sns"
   ],
   "outputs": [],
   "metadata": {}
  },
  {
   "cell_type": "code",
   "execution_count": 35,
   "source": [
    "frequencia = tab8A_final.classe_de_renda.value_counts()\r\n",
    "frequencia"
   ],
   "outputs": [
    {
     "output_type": "execute_result",
     "data": {
      "text/plain": [
       "C    94\n",
       "D    59\n",
       "B    44\n",
       "A    20\n",
       "Name: classe_de_renda, dtype: int64"
      ]
     },
     "metadata": {},
     "execution_count": 35
    }
   ],
   "metadata": {}
  },
  {
   "cell_type": "code",
   "execution_count": 36,
   "source": [
    "percentual = tab8A_final.classe_de_renda.value_counts(normalize=True)*100\r\n",
    "percentual"
   ],
   "outputs": [
    {
     "output_type": "execute_result",
     "data": {
      "text/plain": [
       "C    43.317972\n",
       "D    27.188940\n",
       "B    20.276498\n",
       "A     9.216590\n",
       "Name: classe_de_renda, dtype: float64"
      ]
     },
     "metadata": {},
     "execution_count": 36
    }
   ],
   "metadata": {}
  },
  {
   "cell_type": "code",
   "execution_count": 37,
   "source": [
    "df_freq = pd.DataFrame({'Frequência':frequencia,'Percentual':percentual})\r\n",
    "df_freq"
   ],
   "outputs": [
    {
     "output_type": "execute_result",
     "data": {
      "text/html": [
       "<div>\n",
       "<style scoped>\n",
       "    .dataframe tbody tr th:only-of-type {\n",
       "        vertical-align: middle;\n",
       "    }\n",
       "\n",
       "    .dataframe tbody tr th {\n",
       "        vertical-align: top;\n",
       "    }\n",
       "\n",
       "    .dataframe thead th {\n",
       "        text-align: right;\n",
       "    }\n",
       "</style>\n",
       "<table border=\"1\" class=\"dataframe\">\n",
       "  <thead>\n",
       "    <tr style=\"text-align: right;\">\n",
       "      <th></th>\n",
       "      <th>Frequência</th>\n",
       "      <th>Percentual</th>\n",
       "    </tr>\n",
       "  </thead>\n",
       "  <tbody>\n",
       "    <tr>\n",
       "      <th>C</th>\n",
       "      <td>94</td>\n",
       "      <td>43.317972</td>\n",
       "    </tr>\n",
       "    <tr>\n",
       "      <th>D</th>\n",
       "      <td>59</td>\n",
       "      <td>27.188940</td>\n",
       "    </tr>\n",
       "    <tr>\n",
       "      <th>B</th>\n",
       "      <td>44</td>\n",
       "      <td>20.276498</td>\n",
       "    </tr>\n",
       "    <tr>\n",
       "      <th>A</th>\n",
       "      <td>20</td>\n",
       "      <td>9.216590</td>\n",
       "    </tr>\n",
       "  </tbody>\n",
       "</table>\n",
       "</div>"
      ],
      "text/plain": [
       "   Frequência  Percentual\n",
       "C          94   43.317972\n",
       "D          59   27.188940\n",
       "B          44   20.276498\n",
       "A          20    9.216590"
      ]
     },
     "metadata": {},
     "execution_count": 37
    }
   ],
   "metadata": {}
  },
  {
   "cell_type": "code",
   "execution_count": 38,
   "source": [
    "df_freq['Frequência'].plot.bar()"
   ],
   "outputs": [
    {
     "output_type": "execute_result",
     "data": {
      "text/plain": [
       "<AxesSubplot:>"
      ]
     },
     "metadata": {},
     "execution_count": 38
    },
    {
     "output_type": "display_data",
     "data": {
      "image/png": "[encoded data removed]",
      "text/plain": [
       "<Figure size 432x288 with 1 Axes>"
      ]
     },
     "metadata": {
      "needs_background": "light"
     }
    }
   ],
   "metadata": {}
  },
  {
   "cell_type": "code",
   "execution_count": 40,
   "source": [
    "sns.histplot(x='renda_media',data=tab8A_final)"
   ],
   "outputs": [
    {
     "output_type": "execute_result",
     "data": {
      "text/plain": [
       "<AxesSubplot:xlabel='renda_media', ylabel='Count'>"
      ]
     },
     "metadata": {},
     "execution_count": 40
    },
    {
     "output_type": "display_data",
     "data": {
      "image/png": "[encoded data removed]",
      "text/plain": [
       "<Figure size 432x288 with 1 Axes>"
      ]
     },
     "metadata": {
      "needs_background": "light"
     }
    }
   ],
   "metadata": {}
  }
 ],
 "metadata": {
  "orig_nbformat": 4,
  "language_info": {
   "name": "python",
   "version": "3.8.8",
   "mimetype": "text/x-python",
   "codemirror_mode": {
    "name": "ipython",
    "version": 3
   },
   "pygments_lexer": "ipython3",
   "nbconvert_exporter": "python",
   "file_extension": ".py"
  },
  "kernelspec": {
   "name": "python3",
   "display_name": "Python 3.8.8 64-bit ('base': conda)"
  },
  "interpreter": {
   "hash": "fe85ba89296c5a2c9ae30362d65b06da0dbfb1d93059a21a7b21822ad4b56145"
  }
 },
 "nbformat": 4,
 "nbformat_minor": 2
}