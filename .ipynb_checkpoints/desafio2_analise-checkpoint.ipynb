{
 "cells": [
  {
   "cell_type": "markdown",
   "metadata": {},
   "source": [
    "# Introdução do desafio\n",
    "\n",
    "# Análise de saneamento básico no estado do Maranhão\n",
    "\n",
    "## Objetivo:\n",
    "\n",
    "Apresentar relações entre dados de diferentes tabelas que apresentem causas da deficiência na questão de saneamento básico no estado do maranhão e apresentar caminhos para soluções para este problema.\n",
    "\n",
    "## Caminho para solução:\n",
    "\n",
    "- Observação do conteúdo de cada uma das 17 tabelas para identificar relações (trabalho realizado fora do notebook).\n",
    "* Escolha das tabelas que possam ter maior relacionamento para desenvolvimento da solução. As tabelas escolhidas foram as tabelas:\n",
    "    1. Tabela 1 - Dados sobre população residente, total e respectiva distribuição percentual, por situação do domicílio e sexo, e razão de sexo, segundo os municípios.\n",
    "    2. Tabela 7 - Dados sobre domicílios particulares permanentes, total e respectiva distribuição percentual, por situação do domicílio e tipo de saneamento, segundo os municípios.\n",
    "    3. Tabela 8 - Dados sobre valor médio e quartis do rendimento mensal total domiciliar per capita nominal, por situação do domicílio, segundo os municípios. Nesta tabela foi adicionada uma nova coluna, chamada classe de renda, onde foi definido intervalos de da renda media por domicilio e organizado dos menos para os maiores em ordem alfabética decrescente de D a A.\n",
    "\n",
    "- Limpeza e tratamento dos dados dessas tabelas que foram escolhidas.  \n",
    "* Cada tabela foi trabalhada em um notebook individual e ao final do tratamento foi gerado um arquivo csv para uso destes dados limpos neste notebook. \n",
    "- Analise dos dados escolhidos neste notebook, exibindo relações entre os dados escolhidos."
   ]
  },
  {
   "cell_type": "markdown",
   "metadata": {},
   "source": [
    "# Importando bibliotecas e dados"
   ]
  },
  {
   "cell_type": "code",
   "execution_count": 1,
   "metadata": {},
   "outputs": [],
   "source": [
    "import pandas as pd\n",
    "import matplotlib.pyplot as plt\n",
    "import seaborn as sns"
   ]
  },
  {
   "cell_type": "code",
   "execution_count": 3,
   "metadata": {},
   "outputs": [
    {
     "data": {
      "text/html": [
       "<div>\n",
       "<style scoped>\n",
       "    .dataframe tbody tr th:only-of-type {\n",
       "        vertical-align: middle;\n",
       "    }\n",
       "\n",
       "    .dataframe tbody tr th {\n",
       "        vertical-align: top;\n",
       "    }\n",
       "\n",
       "    .dataframe thead th {\n",
       "        text-align: right;\n",
       "    }\n",
       "</style>\n",
       "<table border=\"1\" class=\"dataframe\">\n",
       "  <thead>\n",
       "    <tr style=\"text-align: right;\">\n",
       "      <th></th>\n",
       "      <th>codigo_do_municipio</th>\n",
       "      <th>nome_municipio</th>\n",
       "      <th>total_habitantes</th>\n",
       "      <th>domicilio_urbano</th>\n",
       "      <th>domicilio_rural</th>\n",
       "      <th>homem</th>\n",
       "      <th>mulher</th>\n",
       "      <th>razao_de_sexo</th>\n",
       "    </tr>\n",
       "  </thead>\n",
       "  <tbody>\n",
       "    <tr>\n",
       "      <th>0</th>\n",
       "      <td>2105658</td>\n",
       "      <td>Junco do Maranhão</td>\n",
       "      <td>4020</td>\n",
       "      <td>70.12</td>\n",
       "      <td>29.88</td>\n",
       "      <td>49.93</td>\n",
       "      <td>50.07</td>\n",
       "      <td>99.720391</td>\n",
       "    </tr>\n",
       "    <tr>\n",
       "      <th>1</th>\n",
       "      <td>2107258</td>\n",
       "      <td>Nova Colinas</td>\n",
       "      <td>4885</td>\n",
       "      <td>45.24</td>\n",
       "      <td>54.76</td>\n",
       "      <td>53.22</td>\n",
       "      <td>46.78</td>\n",
       "      <td>113.766567</td>\n",
       "    </tr>\n",
       "    <tr>\n",
       "      <th>2</th>\n",
       "      <td>2107308</td>\n",
       "      <td>Nova Iorque</td>\n",
       "      <td>4590</td>\n",
       "      <td>62.66</td>\n",
       "      <td>37.34</td>\n",
       "      <td>50.78</td>\n",
       "      <td>49.22</td>\n",
       "      <td>103.169443</td>\n",
       "    </tr>\n",
       "    <tr>\n",
       "      <th>3</th>\n",
       "      <td>2110807</td>\n",
       "      <td>São Félix de Balsas</td>\n",
       "      <td>4702</td>\n",
       "      <td>34.62</td>\n",
       "      <td>65.38</td>\n",
       "      <td>52.19</td>\n",
       "      <td>47.81</td>\n",
       "      <td>109.161263</td>\n",
       "    </tr>\n",
       "    <tr>\n",
       "      <th>4</th>\n",
       "      <td>2111573</td>\n",
       "      <td>São Pedro dos Crentes</td>\n",
       "      <td>4425</td>\n",
       "      <td>55.07</td>\n",
       "      <td>44.93</td>\n",
       "      <td>53.22</td>\n",
       "      <td>46.78</td>\n",
       "      <td>113.766567</td>\n",
       "    </tr>\n",
       "  </tbody>\n",
       "</table>\n",
       "</div>"
      ],
      "text/plain": [
       "   codigo_do_municipio         nome_municipio  total_habitantes  \\\n",
       "0              2105658      Junco do Maranhão              4020   \n",
       "1              2107258           Nova Colinas              4885   \n",
       "2              2107308            Nova Iorque              4590   \n",
       "3              2110807    São Félix de Balsas              4702   \n",
       "4              2111573  São Pedro dos Crentes              4425   \n",
       "\n",
       "   domicilio_urbano  domicilio_rural  homem  mulher  razao_de_sexo  \n",
       "0             70.12            29.88  49.93   50.07      99.720391  \n",
       "1             45.24            54.76  53.22   46.78     113.766567  \n",
       "2             62.66            37.34  50.78   49.22     103.169443  \n",
       "3             34.62            65.38  52.19   47.81     109.161263  \n",
       "4             55.07            44.93  53.22   46.78     113.766567  "
      ]
     },
     "execution_count": 3,
     "metadata": {},
     "output_type": "execute_result"
    }
   ],
   "source": [
    "df_tab1 = pd.read_csv('dadosLimpos/tab_1.csv')\n",
    "df_tab1.head()"
   ]
  },
  {
   "cell_type": "code",
   "execution_count": 4,
   "metadata": {},
   "outputs": [
    {
     "data": {
      "text/html": [
       "<div>\n",
       "<style scoped>\n",
       "    .dataframe tbody tr th:only-of-type {\n",
       "        vertical-align: middle;\n",
       "    }\n",
       "\n",
       "    .dataframe tbody tr th {\n",
       "        vertical-align: top;\n",
       "    }\n",
       "\n",
       "    .dataframe thead th {\n",
       "        text-align: right;\n",
       "    }\n",
       "</style>\n",
       "<table border=\"1\" class=\"dataframe\">\n",
       "  <thead>\n",
       "    <tr style=\"text-align: right;\">\n",
       "      <th></th>\n",
       "      <th>codigo_municipio</th>\n",
       "      <th>nome_municipio</th>\n",
       "      <th>total_domicilios</th>\n",
       "      <th>saneamento_adequado</th>\n",
       "      <th>saneamento_semi_adequado</th>\n",
       "      <th>saneamento_inadequado</th>\n",
       "    </tr>\n",
       "  </thead>\n",
       "  <tbody>\n",
       "    <tr>\n",
       "      <th>0</th>\n",
       "      <td>2105658</td>\n",
       "      <td>Junco do Maranhão</td>\n",
       "      <td>986</td>\n",
       "      <td>15.11</td>\n",
       "      <td>70.69</td>\n",
       "      <td>14.20</td>\n",
       "    </tr>\n",
       "    <tr>\n",
       "      <th>1</th>\n",
       "      <td>2107258</td>\n",
       "      <td>Nova Colinas</td>\n",
       "      <td>1188</td>\n",
       "      <td>0.00</td>\n",
       "      <td>54.97</td>\n",
       "      <td>45.03</td>\n",
       "    </tr>\n",
       "    <tr>\n",
       "      <th>2</th>\n",
       "      <td>2107308</td>\n",
       "      <td>Nova Iorque</td>\n",
       "      <td>1207</td>\n",
       "      <td>13.67</td>\n",
       "      <td>51.12</td>\n",
       "      <td>35.21</td>\n",
       "    </tr>\n",
       "    <tr>\n",
       "      <th>3</th>\n",
       "      <td>2110807</td>\n",
       "      <td>São Félix de Balsas</td>\n",
       "      <td>1212</td>\n",
       "      <td>0.08</td>\n",
       "      <td>19.14</td>\n",
       "      <td>80.78</td>\n",
       "    </tr>\n",
       "    <tr>\n",
       "      <th>4</th>\n",
       "      <td>2111573</td>\n",
       "      <td>São Pedro dos Crentes</td>\n",
       "      <td>1105</td>\n",
       "      <td>0.18</td>\n",
       "      <td>59.82</td>\n",
       "      <td>40.00</td>\n",
       "    </tr>\n",
       "  </tbody>\n",
       "</table>\n",
       "</div>"
      ],
      "text/plain": [
       "   codigo_municipio         nome_municipio  total_domicilios  \\\n",
       "0           2105658      Junco do Maranhão               986   \n",
       "1           2107258           Nova Colinas              1188   \n",
       "2           2107308            Nova Iorque              1207   \n",
       "3           2110807    São Félix de Balsas              1212   \n",
       "4           2111573  São Pedro dos Crentes              1105   \n",
       "\n",
       "   saneamento_adequado  saneamento_semi_adequado  saneamento_inadequado  \n",
       "0                15.11                     70.69                  14.20  \n",
       "1                 0.00                     54.97                  45.03  \n",
       "2                13.67                     51.12                  35.21  \n",
       "3                 0.08                     19.14                  80.78  \n",
       "4                 0.18                     59.82                  40.00  "
      ]
     },
     "execution_count": 4,
     "metadata": {},
     "output_type": "execute_result"
    }
   ],
   "source": [
    "df_tab7 = pd.read_csv('dadosLimpos/tab7A.csv')\n",
    "df_tab7.head()"
   ]
  },
  {
   "cell_type": "code",
   "execution_count": 5,
   "metadata": {},
   "outputs": [
    {
     "data": {
      "text/html": [
       "<div>\n",
       "<style scoped>\n",
       "    .dataframe tbody tr th:only-of-type {\n",
       "        vertical-align: middle;\n",
       "    }\n",
       "\n",
       "    .dataframe tbody tr th {\n",
       "        vertical-align: top;\n",
       "    }\n",
       "\n",
       "    .dataframe thead th {\n",
       "        text-align: right;\n",
       "    }\n",
       "</style>\n",
       "<table border=\"1\" class=\"dataframe\">\n",
       "  <thead>\n",
       "    <tr style=\"text-align: right;\">\n",
       "      <th></th>\n",
       "      <th>codigo_municipio</th>\n",
       "      <th>nome_municipio</th>\n",
       "      <th>renda_media</th>\n",
       "      <th>quartil_1</th>\n",
       "      <th>quartil_2</th>\n",
       "      <th>quartil_3</th>\n",
       "      <th>classe_de_renda</th>\n",
       "    </tr>\n",
       "  </thead>\n",
       "  <tbody>\n",
       "    <tr>\n",
       "      <th>0</th>\n",
       "      <td>2105658</td>\n",
       "      <td>Junco do Maranhão</td>\n",
       "      <td>209</td>\n",
       "      <td>75</td>\n",
       "      <td>138</td>\n",
       "      <td>255</td>\n",
       "      <td>C</td>\n",
       "    </tr>\n",
       "    <tr>\n",
       "      <th>1</th>\n",
       "      <td>2107258</td>\n",
       "      <td>Nova Colinas</td>\n",
       "      <td>200</td>\n",
       "      <td>34</td>\n",
       "      <td>120</td>\n",
       "      <td>255</td>\n",
       "      <td>C</td>\n",
       "    </tr>\n",
       "    <tr>\n",
       "      <th>2</th>\n",
       "      <td>2107308</td>\n",
       "      <td>Nova Iorque</td>\n",
       "      <td>248</td>\n",
       "      <td>60</td>\n",
       "      <td>153</td>\n",
       "      <td>306</td>\n",
       "      <td>B</td>\n",
       "    </tr>\n",
       "    <tr>\n",
       "      <th>3</th>\n",
       "      <td>2110807</td>\n",
       "      <td>São Félix de Balsas</td>\n",
       "      <td>340</td>\n",
       "      <td>54</td>\n",
       "      <td>130</td>\n",
       "      <td>262</td>\n",
       "      <td>A</td>\n",
       "    </tr>\n",
       "    <tr>\n",
       "      <th>4</th>\n",
       "      <td>2111573</td>\n",
       "      <td>São Pedro dos Crentes</td>\n",
       "      <td>254</td>\n",
       "      <td>78</td>\n",
       "      <td>159</td>\n",
       "      <td>313</td>\n",
       "      <td>B</td>\n",
       "    </tr>\n",
       "  </tbody>\n",
       "</table>\n",
       "</div>"
      ],
      "text/plain": [
       "   codigo_municipio         nome_municipio  renda_media  quartil_1  quartil_2  \\\n",
       "0           2105658      Junco do Maranhão          209         75        138   \n",
       "1           2107258           Nova Colinas          200         34        120   \n",
       "2           2107308            Nova Iorque          248         60        153   \n",
       "3           2110807    São Félix de Balsas          340         54        130   \n",
       "4           2111573  São Pedro dos Crentes          254         78        159   \n",
       "\n",
       "   quartil_3 classe_de_renda  \n",
       "0        255               C  \n",
       "1        255               C  \n",
       "2        306               B  \n",
       "3        262               A  \n",
       "4        313               B  "
      ]
     },
     "execution_count": 5,
     "metadata": {},
     "output_type": "execute_result"
    }
   ],
   "source": [
    "df_tab8 = pd.read_csv('dadosLimpos/tab8A.csv')\n",
    "df_tab8.head()"
   ]
  },
  {
   "cell_type": "markdown",
   "metadata": {},
   "source": [
    "# Organizandos dados para analise em único dataframe"
   ]
  },
  {
   "cell_type": "code",
   "execution_count": 6,
   "metadata": {},
   "outputs": [
    {
     "data": {
      "text/html": [
       "<div>\n",
       "<style scoped>\n",
       "    .dataframe tbody tr th:only-of-type {\n",
       "        vertical-align: middle;\n",
       "    }\n",
       "\n",
       "    .dataframe tbody tr th {\n",
       "        vertical-align: top;\n",
       "    }\n",
       "\n",
       "    .dataframe thead th {\n",
       "        text-align: right;\n",
       "    }\n",
       "</style>\n",
       "<table border=\"1\" class=\"dataframe\">\n",
       "  <thead>\n",
       "    <tr style=\"text-align: right;\">\n",
       "      <th></th>\n",
       "      <th>total_domicilios</th>\n",
       "      <th>saneamento_adequado</th>\n",
       "      <th>saneamento_semi_adequado</th>\n",
       "      <th>saneamento_inadequado</th>\n",
       "    </tr>\n",
       "  </thead>\n",
       "  <tbody>\n",
       "    <tr>\n",
       "      <th>0</th>\n",
       "      <td>986</td>\n",
       "      <td>15.11</td>\n",
       "      <td>70.69</td>\n",
       "      <td>14.20</td>\n",
       "    </tr>\n",
       "    <tr>\n",
       "      <th>1</th>\n",
       "      <td>1188</td>\n",
       "      <td>0.00</td>\n",
       "      <td>54.97</td>\n",
       "      <td>45.03</td>\n",
       "    </tr>\n",
       "    <tr>\n",
       "      <th>2</th>\n",
       "      <td>1207</td>\n",
       "      <td>13.67</td>\n",
       "      <td>51.12</td>\n",
       "      <td>35.21</td>\n",
       "    </tr>\n",
       "    <tr>\n",
       "      <th>3</th>\n",
       "      <td>1212</td>\n",
       "      <td>0.08</td>\n",
       "      <td>19.14</td>\n",
       "      <td>80.78</td>\n",
       "    </tr>\n",
       "    <tr>\n",
       "      <th>4</th>\n",
       "      <td>1105</td>\n",
       "      <td>0.18</td>\n",
       "      <td>59.82</td>\n",
       "      <td>40.00</td>\n",
       "    </tr>\n",
       "  </tbody>\n",
       "</table>\n",
       "</div>"
      ],
      "text/plain": [
       "   total_domicilios  saneamento_adequado  saneamento_semi_adequado  \\\n",
       "0               986                15.11                     70.69   \n",
       "1              1188                 0.00                     54.97   \n",
       "2              1207                13.67                     51.12   \n",
       "3              1212                 0.08                     19.14   \n",
       "4              1105                 0.18                     59.82   \n",
       "\n",
       "   saneamento_inadequado  \n",
       "0                  14.20  \n",
       "1                  45.03  \n",
       "2                  35.21  \n",
       "3                  80.78  \n",
       "4                  40.00  "
      ]
     },
     "execution_count": 6,
     "metadata": {},
     "output_type": "execute_result"
    }
   ],
   "source": [
    "df_selecao7 = df_tab7[['total_domicilios','saneamento_adequado','saneamento_semi_adequado','saneamento_inadequado']]\n",
    "df_selecao7.head()"
   ]
  },
  {
   "cell_type": "code",
   "execution_count": 7,
   "metadata": {},
   "outputs": [
    {
     "data": {
      "text/html": [
       "<div>\n",
       "<style scoped>\n",
       "    .dataframe tbody tr th:only-of-type {\n",
       "        vertical-align: middle;\n",
       "    }\n",
       "\n",
       "    .dataframe tbody tr th {\n",
       "        vertical-align: top;\n",
       "    }\n",
       "\n",
       "    .dataframe thead th {\n",
       "        text-align: right;\n",
       "    }\n",
       "</style>\n",
       "<table border=\"1\" class=\"dataframe\">\n",
       "  <thead>\n",
       "    <tr style=\"text-align: right;\">\n",
       "      <th></th>\n",
       "      <th>codigo_do_municipio</th>\n",
       "      <th>nome_municipio</th>\n",
       "      <th>total_habitantes</th>\n",
       "      <th>domicilio_urbano</th>\n",
       "      <th>domicilio_rural</th>\n",
       "      <th>renda_media</th>\n",
       "      <th>classe_de_renda</th>\n",
       "      <th>total_domicilios</th>\n",
       "      <th>saneamento_adequado</th>\n",
       "      <th>saneamento_semi_adequado</th>\n",
       "      <th>saneamento_inadequado</th>\n",
       "    </tr>\n",
       "  </thead>\n",
       "  <tbody>\n",
       "    <tr>\n",
       "      <th>0</th>\n",
       "      <td>2105658</td>\n",
       "      <td>Junco do Maranhão</td>\n",
       "      <td>4020</td>\n",
       "      <td>70.12</td>\n",
       "      <td>29.88</td>\n",
       "      <td>209</td>\n",
       "      <td>C</td>\n",
       "      <td>986</td>\n",
       "      <td>15.11</td>\n",
       "      <td>70.69</td>\n",
       "      <td>14.20</td>\n",
       "    </tr>\n",
       "    <tr>\n",
       "      <th>1</th>\n",
       "      <td>2107258</td>\n",
       "      <td>Nova Colinas</td>\n",
       "      <td>4885</td>\n",
       "      <td>45.24</td>\n",
       "      <td>54.76</td>\n",
       "      <td>200</td>\n",
       "      <td>C</td>\n",
       "      <td>1188</td>\n",
       "      <td>0.00</td>\n",
       "      <td>54.97</td>\n",
       "      <td>45.03</td>\n",
       "    </tr>\n",
       "    <tr>\n",
       "      <th>2</th>\n",
       "      <td>2107308</td>\n",
       "      <td>Nova Iorque</td>\n",
       "      <td>4590</td>\n",
       "      <td>62.66</td>\n",
       "      <td>37.34</td>\n",
       "      <td>248</td>\n",
       "      <td>B</td>\n",
       "      <td>1207</td>\n",
       "      <td>13.67</td>\n",
       "      <td>51.12</td>\n",
       "      <td>35.21</td>\n",
       "    </tr>\n",
       "    <tr>\n",
       "      <th>3</th>\n",
       "      <td>2110807</td>\n",
       "      <td>São Félix de Balsas</td>\n",
       "      <td>4702</td>\n",
       "      <td>34.62</td>\n",
       "      <td>65.38</td>\n",
       "      <td>340</td>\n",
       "      <td>A</td>\n",
       "      <td>1212</td>\n",
       "      <td>0.08</td>\n",
       "      <td>19.14</td>\n",
       "      <td>80.78</td>\n",
       "    </tr>\n",
       "    <tr>\n",
       "      <th>4</th>\n",
       "      <td>2111573</td>\n",
       "      <td>São Pedro dos Crentes</td>\n",
       "      <td>4425</td>\n",
       "      <td>55.07</td>\n",
       "      <td>44.93</td>\n",
       "      <td>254</td>\n",
       "      <td>B</td>\n",
       "      <td>1105</td>\n",
       "      <td>0.18</td>\n",
       "      <td>59.82</td>\n",
       "      <td>40.00</td>\n",
       "    </tr>\n",
       "  </tbody>\n",
       "</table>\n",
       "</div>"
      ],
      "text/plain": [
       "   codigo_do_municipio         nome_municipio  total_habitantes  \\\n",
       "0              2105658      Junco do Maranhão              4020   \n",
       "1              2107258           Nova Colinas              4885   \n",
       "2              2107308            Nova Iorque              4590   \n",
       "3              2110807    São Félix de Balsas              4702   \n",
       "4              2111573  São Pedro dos Crentes              4425   \n",
       "\n",
       "   domicilio_urbano  domicilio_rural  renda_media classe_de_renda  \\\n",
       "0             70.12            29.88          209               C   \n",
       "1             45.24            54.76          200               C   \n",
       "2             62.66            37.34          248               B   \n",
       "3             34.62            65.38          340               A   \n",
       "4             55.07            44.93          254               B   \n",
       "\n",
       "   total_domicilios  saneamento_adequado  saneamento_semi_adequado  \\\n",
       "0               986                15.11                     70.69   \n",
       "1              1188                 0.00                     54.97   \n",
       "2              1207                13.67                     51.12   \n",
       "3              1212                 0.08                     19.14   \n",
       "4              1105                 0.18                     59.82   \n",
       "\n",
       "   saneamento_inadequado  \n",
       "0                  14.20  \n",
       "1                  45.03  \n",
       "2                  35.21  \n",
       "3                  80.78  \n",
       "4                  40.00  "
      ]
     },
     "execution_count": 7,
     "metadata": {},
     "output_type": "execute_result"
    }
   ],
   "source": [
    "df_selecao8 = df_tab8[['renda_media','classe_de_renda']]\n",
    "df_selecao1 = df_tab1[['codigo_do_municipio', 'nome_municipio','total_habitantes','domicilio_urbano','domicilio_rural']]\n",
    "df_analise = pd.concat([df_selecao1, df_selecao8 ,df_selecao7],axis=1)\n",
    "df_analise.head()"
   ]
  },
  {
   "cell_type": "markdown",
   "metadata": {},
   "source": [
    "# Analisando relação Renda x Saneamento"
   ]
  },
  {
   "cell_type": "code",
   "execution_count": 8,
   "metadata": {},
   "outputs": [
    {
     "data": {
      "image/png": "[encoded data removed]",
      "text/plain": [
       "<Figure size 504x1440 with 3 Axes>"
      ]
     },
     "metadata": {
      "needs_background": "light"
     },
     "output_type": "display_data"
    }
   ],
   "source": [
    "fig = plt.figure(figsize=(7,20))\n",
    "\n",
    "ax1 = fig.add_subplot(311)\n",
    "g = sns.boxplot(x='classe_de_renda',y='saneamento_inadequado',data=df_analise,ax=ax1)\n",
    "g.set_title(\"Saneamento inadequado x Classe de renda\",fontsize=18,loc='left')\n",
    "g.set_ylabel(\"Porcentagem de seneamento inadequado por domicilios\",fontsize=14)\n",
    "g.set_xlabel(\"Classes de renda por domicilios\",fontsize=14)\n",
    "\n",
    "ax2 = fig.add_subplot(312)\n",
    "g = sns.boxplot(x='classe_de_renda',y='saneamento_semi_adequado',data=df_analise,ax=ax2)\n",
    "g.set_title(\"Saneamento semi adequado x Classe de renda\",fontsize=18,loc='left')\n",
    "g.set_ylabel(\"Porcentagem de seneamento semi adequado por domicilios\",fontsize=14)\n",
    "g.set_xlabel(\"Classes de renda por domicilios\",fontsize=14)\n",
    "\n",
    "ax3 = fig.add_subplot(313)\n",
    "g = sns.boxplot(x='classe_de_renda',y='saneamento_adequado',data=df_analise, ax=ax3)\n",
    "g.set_title(\"Saneamento adequado x Classe de renda\",fontsize=18,loc='left')\n",
    "g.set_ylabel(\"Porcentagem de seneamento adequado por domicilios\",fontsize=14)\n",
    "g.set_xlabel(\"Classes de renda por domicilios\",fontsize=14)\n",
    "\n",
    "\n",
    "# plt.close(2)\n",
    "# plt.close(3)\n",
    "# plt.close(4)\n",
    "plt.tight_layout()"
   ]
  },
  {
   "cell_type": "markdown",
   "metadata": {},
   "source": [
    "**Os graficos anteriores relacionam os valores da porcentagem do tipo de saneamento por domicilio e a classe de renda também do domicilio.**\n",
    "\n",
    "**Cada grafico representa um tipo de classificação de saneamento em porcentagem, podendo ser adequado, inadequado e semi-adequado.**\n",
    "\n",
    "**As classes de renda foram determinadas por intervalos do valor da renda media por domicilio no tratamento da tabela 8, que tem esses dados.**\n",
    "\n",
    "**A partir desses graficos é possivel observar que as altas porcentagens de saneamento inadequado está presente em maior volume nos domicilios de classes de renda mais baixas.**\n",
    "\n",
    "**Sendo assim, este sendo um problema já bastante conhecido, da falta de acesso ao básico pelas populações mais pobres, os dados apenas afirmam essa condição. Planejamento para promover o acesso ao saneamento básico para essas áreas mais pobres devem ser um foco para mudar essa condição.**\n"
   ]
  },
  {
   "cell_type": "markdown",
   "metadata": {},
   "source": [
    "# Analise da relação entre domícilios Rurais/Urbanos x Renda x Saneamento"
   ]
  },
  {
   "cell_type": "code",
   "execution_count": 9,
   "metadata": {},
   "outputs": [
    {
     "data": {
      "text/html": [
       "<div>\n",
       "<style scoped>\n",
       "    .dataframe tbody tr th:only-of-type {\n",
       "        vertical-align: middle;\n",
       "    }\n",
       "\n",
       "    .dataframe tbody tr th {\n",
       "        vertical-align: top;\n",
       "    }\n",
       "\n",
       "    .dataframe thead th {\n",
       "        text-align: right;\n",
       "    }\n",
       "</style>\n",
       "<table border=\"1\" class=\"dataframe\">\n",
       "  <thead>\n",
       "    <tr style=\"text-align: right;\">\n",
       "      <th></th>\n",
       "      <th>saneamento_adequado</th>\n",
       "      <th>domicilio_rural</th>\n",
       "    </tr>\n",
       "    <tr>\n",
       "      <th>classe_de_renda</th>\n",
       "      <th></th>\n",
       "      <th></th>\n",
       "    </tr>\n",
       "  </thead>\n",
       "  <tbody>\n",
       "    <tr>\n",
       "      <th>A</th>\n",
       "      <td>20.445000</td>\n",
       "      <td>26.465500</td>\n",
       "    </tr>\n",
       "    <tr>\n",
       "      <th>B</th>\n",
       "      <td>7.380000</td>\n",
       "      <td>38.691591</td>\n",
       "    </tr>\n",
       "    <tr>\n",
       "      <th>C</th>\n",
       "      <td>5.536277</td>\n",
       "      <td>50.218511</td>\n",
       "    </tr>\n",
       "    <tr>\n",
       "      <th>D</th>\n",
       "      <td>3.426949</td>\n",
       "      <td>61.576949</td>\n",
       "    </tr>\n",
       "  </tbody>\n",
       "</table>\n",
       "</div>"
      ],
      "text/plain": [
       "                 saneamento_adequado  domicilio_rural\n",
       "classe_de_renda                                      \n",
       "A                          20.445000        26.465500\n",
       "B                           7.380000        38.691591\n",
       "C                           5.536277        50.218511\n",
       "D                           3.426949        61.576949"
      ]
     },
     "execution_count": 9,
     "metadata": {},
     "output_type": "execute_result"
    }
   ],
   "source": [
    "df_analise[['classe_de_renda','saneamento_adequado','domicilio_rural']].groupby('classe_de_renda').mean()"
   ]
  },
  {
   "cell_type": "code",
   "execution_count": 10,
   "metadata": {},
   "outputs": [
    {
     "data": {
      "text/html": [
       "<div>\n",
       "<style scoped>\n",
       "    .dataframe tbody tr th:only-of-type {\n",
       "        vertical-align: middle;\n",
       "    }\n",
       "\n",
       "    .dataframe tbody tr th {\n",
       "        vertical-align: top;\n",
       "    }\n",
       "\n",
       "    .dataframe thead th {\n",
       "        text-align: right;\n",
       "    }\n",
       "</style>\n",
       "<table border=\"1\" class=\"dataframe\">\n",
       "  <thead>\n",
       "    <tr style=\"text-align: right;\">\n",
       "      <th></th>\n",
       "      <th>saneamento_semi_adequado</th>\n",
       "      <th>domicilio_rural</th>\n",
       "    </tr>\n",
       "    <tr>\n",
       "      <th>classe_de_renda</th>\n",
       "      <th></th>\n",
       "      <th></th>\n",
       "    </tr>\n",
       "  </thead>\n",
       "  <tbody>\n",
       "    <tr>\n",
       "      <th>A</th>\n",
       "      <td>62.423500</td>\n",
       "      <td>26.465500</td>\n",
       "    </tr>\n",
       "    <tr>\n",
       "      <th>B</th>\n",
       "      <td>67.657500</td>\n",
       "      <td>38.691591</td>\n",
       "    </tr>\n",
       "    <tr>\n",
       "      <th>C</th>\n",
       "      <td>63.958404</td>\n",
       "      <td>50.218511</td>\n",
       "    </tr>\n",
       "    <tr>\n",
       "      <th>D</th>\n",
       "      <td>50.796271</td>\n",
       "      <td>61.576949</td>\n",
       "    </tr>\n",
       "  </tbody>\n",
       "</table>\n",
       "</div>"
      ],
      "text/plain": [
       "                 saneamento_semi_adequado  domicilio_rural\n",
       "classe_de_renda                                           \n",
       "A                               62.423500        26.465500\n",
       "B                               67.657500        38.691591\n",
       "C                               63.958404        50.218511\n",
       "D                               50.796271        61.576949"
      ]
     },
     "execution_count": 10,
     "metadata": {},
     "output_type": "execute_result"
    }
   ],
   "source": [
    "df_analise[['classe_de_renda','saneamento_semi_adequado','domicilio_rural']].groupby('classe_de_renda').mean()"
   ]
  },
  {
   "cell_type": "code",
   "execution_count": 11,
   "metadata": {},
   "outputs": [
    {
     "data": {
      "text/html": [
       "<div>\n",
       "<style scoped>\n",
       "    .dataframe tbody tr th:only-of-type {\n",
       "        vertical-align: middle;\n",
       "    }\n",
       "\n",
       "    .dataframe tbody tr th {\n",
       "        vertical-align: top;\n",
       "    }\n",
       "\n",
       "    .dataframe thead th {\n",
       "        text-align: right;\n",
       "    }\n",
       "</style>\n",
       "<table border=\"1\" class=\"dataframe\">\n",
       "  <thead>\n",
       "    <tr style=\"text-align: right;\">\n",
       "      <th></th>\n",
       "      <th>saneamento_inadequado</th>\n",
       "      <th>domicilio_rural</th>\n",
       "    </tr>\n",
       "    <tr>\n",
       "      <th>classe_de_renda</th>\n",
       "      <th></th>\n",
       "      <th></th>\n",
       "    </tr>\n",
       "  </thead>\n",
       "  <tbody>\n",
       "    <tr>\n",
       "      <th>A</th>\n",
       "      <td>17.131000</td>\n",
       "      <td>26.465500</td>\n",
       "    </tr>\n",
       "    <tr>\n",
       "      <th>B</th>\n",
       "      <td>24.962500</td>\n",
       "      <td>38.691591</td>\n",
       "    </tr>\n",
       "    <tr>\n",
       "      <th>C</th>\n",
       "      <td>30.505851</td>\n",
       "      <td>50.218511</td>\n",
       "    </tr>\n",
       "    <tr>\n",
       "      <th>D</th>\n",
       "      <td>45.777627</td>\n",
       "      <td>61.576949</td>\n",
       "    </tr>\n",
       "  </tbody>\n",
       "</table>\n",
       "</div>"
      ],
      "text/plain": [
       "                 saneamento_inadequado  domicilio_rural\n",
       "classe_de_renda                                        \n",
       "A                            17.131000        26.465500\n",
       "B                            24.962500        38.691591\n",
       "C                            30.505851        50.218511\n",
       "D                            45.777627        61.576949"
      ]
     },
     "execution_count": 11,
     "metadata": {},
     "output_type": "execute_result"
    }
   ],
   "source": [
    "df_analise[['classe_de_renda','saneamento_inadequado','domicilio_rural']].groupby('classe_de_renda').mean()"
   ]
  },
  {
   "cell_type": "code",
   "execution_count": 12,
   "metadata": {},
   "outputs": [
    {
     "data": {
      "image/png": "[encoded data removed]",
      "text/plain": [
       "<Figure size 1008x432 with 2 Axes>"
      ]
     },
     "metadata": {
      "needs_background": "light"
     },
     "output_type": "display_data"
    }
   ],
   "source": [
    "fig = plt.figure(figsize=(14,6))\n",
    "\n",
    "ax1 = fig.add_subplot(121)\n",
    "g = sns.scatterplot(x='domicilio_rural',y='saneamento_inadequado', hue='classe_de_renda',data=df_analise,ax=ax1)\n",
    "g.set_title(\"Domicílios rurais x Domicílios com saneamento inadequado\",fontsize=14,loc='left')\n",
    "g.set_xlabel(\"Porcentagem de domicilios rurais por municipio\",fontsize=12)\n",
    "g.set_ylabel(\"Porcentagem de domicilios com saneamento inadequado\",fontsize=12)\n",
    "\n",
    "ax2 = fig.add_subplot(122)\n",
    "\n",
    "g = sns.scatterplot(x='domicilio_urbano',y='saneamento_inadequado', hue='classe_de_renda',data=df_analise,ax=ax2)\n",
    "g.set_title(\"Domicílios urbanos x Domicílios com saneamento inadequado\",fontsize=14,loc='left')\n",
    "g.set_xlabel(\"Porcentagem de domicilios urbanos por municipio\",fontsize=12)\n",
    "g.set_ylabel(\"Porcentagem de domicilios com saneamento inadequado\",fontsize=12)\n",
    "\n",
    "plt.close(2)\n",
    "plt.close(3)\n",
    "plt.close(4)\n",
    "plt.tight_layout()"
   ]
  },
  {
   "cell_type": "markdown",
   "metadata": {},
   "source": [
    "**Com os graficos e o dados analisados anteriormente, onde foi relacionado principalmente as classes de renda por domicilio com a porcentagem de domicilios rurais e urbanos, e também a porcentagem de domicilios com saneamento inadequado, podemos observar que os municipios com maior procentagem de domicilios rurais, também são os com maiores porcentagens de seneamento inadequado.**\n",
    "\n",
    "**Com isso, é visivel que existe uma falta de atenção para a questão de saneamento básico nas áreas rurais. Ações e planejamentos para levar o saneamento básico para esses locais mais distantes dos centros urbanos são essenciais para mudar essa realidade.**"
   ]
  },
  {
   "cell_type": "markdown",
   "metadata": {},
   "source": [
    "# Analise - Distribuição da população por classe de renda"
   ]
  },
  {
   "cell_type": "code",
   "execution_count": 21,
   "metadata": {},
   "outputs": [
    {
     "data": {
      "text/html": [
       "<div>\n",
       "<style scoped>\n",
       "    .dataframe tbody tr th:only-of-type {\n",
       "        vertical-align: middle;\n",
       "    }\n",
       "\n",
       "    .dataframe tbody tr th {\n",
       "        vertical-align: top;\n",
       "    }\n",
       "\n",
       "    .dataframe thead th {\n",
       "        text-align: right;\n",
       "    }\n",
       "</style>\n",
       "<table border=\"1\" class=\"dataframe\">\n",
       "  <thead>\n",
       "    <tr style=\"text-align: right;\">\n",
       "      <th></th>\n",
       "      <th>total_habitantes</th>\n",
       "    </tr>\n",
       "    <tr>\n",
       "      <th>classe_de_renda</th>\n",
       "      <th></th>\n",
       "    </tr>\n",
       "  </thead>\n",
       "  <tbody>\n",
       "    <tr>\n",
       "      <th>A</th>\n",
       "      <td>2432554</td>\n",
       "    </tr>\n",
       "    <tr>\n",
       "      <th>B</th>\n",
       "      <td>1150862</td>\n",
       "    </tr>\n",
       "    <tr>\n",
       "      <th>C</th>\n",
       "      <td>2045500</td>\n",
       "    </tr>\n",
       "    <tr>\n",
       "      <th>D</th>\n",
       "      <td>945873</td>\n",
       "    </tr>\n",
       "  </tbody>\n",
       "</table>\n",
       "</div>"
      ],
      "text/plain": [
       "                 total_habitantes\n",
       "classe_de_renda                  \n",
       "A                         2432554\n",
       "B                         1150862\n",
       "C                         2045500\n",
       "D                          945873"
      ]
     },
     "execution_count": 21,
     "metadata": {},
     "output_type": "execute_result"
    }
   ],
   "source": [
    "df_total_habitantes_por_classe_renda_com_outliers = df_analise[['classe_de_renda','total_habitantes']].groupby(['classe_de_renda']).sum()\n",
    "df_total_habitantes_por_classe_renda_com_outliers"
   ]
  },
  {
   "cell_type": "code",
   "execution_count": 22,
   "metadata": {},
   "outputs": [
    {
     "data": {
      "text/plain": [
       "<AxesSubplot:xlabel='classe_de_renda'>"
      ]
     },
     "execution_count": 22,
     "metadata": {},
     "output_type": "execute_result"
    },
    {
     "data": {
      "image/png": "[encoded data removed]",
      "text/plain": [
       "<Figure size 432x288 with 1 Axes>"
      ]
     },
     "metadata": {
      "needs_background": "light"
     },
     "output_type": "display_data"
    }
   ],
   "source": [
    "df_total_habitantes_por_classe_renda_com_outliers.plot.bar()"
   ]
  },
  {
   "cell_type": "markdown",
   "metadata": {},
   "source": [
    "**Em uma observação inicial, parece que a maior parte do estado vive na classe de renda referente ao intervalo A, porém o gráfico abaixo prova o contrario**"
   ]
  },
  {
   "cell_type": "code",
   "execution_count": 15,
   "metadata": {},
   "outputs": [
    {
     "data": {
      "image/png": "[encoded data removed]",
      "text/plain": [
       "<Figure size 432x288 with 1 Axes>"
      ]
     },
     "metadata": {
      "needs_background": "light"
     },
     "output_type": "display_data"
    }
   ],
   "source": [
    "sns.boxplot(y='total_habitantes',data=df_analise);"
   ]
  },
  {
   "cell_type": "markdown",
   "metadata": {},
   "source": [
    "**Esse grafico boxplot mostra a existencia de outliers nos dados, ou seja, pontos fora da curva**\n",
    "\n",
    "**Nesse caso temos principalmente um ponto fora da curva**"
   ]
  },
  {
   "cell_type": "code",
   "execution_count": 16,
   "metadata": {},
   "outputs": [
    {
     "data": {
      "text/html": [
       "<div>\n",
       "<style scoped>\n",
       "    .dataframe tbody tr th:only-of-type {\n",
       "        vertical-align: middle;\n",
       "    }\n",
       "\n",
       "    .dataframe tbody tr th {\n",
       "        vertical-align: top;\n",
       "    }\n",
       "\n",
       "    .dataframe thead th {\n",
       "        text-align: right;\n",
       "    }\n",
       "</style>\n",
       "<table border=\"1\" class=\"dataframe\">\n",
       "  <thead>\n",
       "    <tr style=\"text-align: right;\">\n",
       "      <th></th>\n",
       "      <th>nome_municipio</th>\n",
       "      <th>total_habitantes</th>\n",
       "    </tr>\n",
       "  </thead>\n",
       "  <tbody>\n",
       "    <tr>\n",
       "      <th>216</th>\n",
       "      <td>São Luís</td>\n",
       "      <td>1014837</td>\n",
       "    </tr>\n",
       "    <tr>\n",
       "      <th>212</th>\n",
       "      <td>Imperatriz</td>\n",
       "      <td>247505</td>\n",
       "    </tr>\n",
       "    <tr>\n",
       "      <th>214</th>\n",
       "      <td>São José de Ribamar</td>\n",
       "      <td>163045</td>\n",
       "    </tr>\n",
       "    <tr>\n",
       "      <th>215</th>\n",
       "      <td>Timon</td>\n",
       "      <td>155460</td>\n",
       "    </tr>\n",
       "    <tr>\n",
       "      <th>210</th>\n",
       "      <td>Caxias</td>\n",
       "      <td>155129</td>\n",
       "    </tr>\n",
       "  </tbody>\n",
       "</table>\n",
       "</div>"
      ],
      "text/plain": [
       "          nome_municipio  total_habitantes\n",
       "216             São Luís           1014837\n",
       "212           Imperatriz            247505\n",
       "214  São José de Ribamar            163045\n",
       "215                Timon            155460\n",
       "210               Caxias            155129"
      ]
     },
     "execution_count": 16,
     "metadata": {},
     "output_type": "execute_result"
    }
   ],
   "source": [
    "df_analise[['nome_municipio','total_habitantes']].sort_values(['total_habitantes'],ascending=False).head()"
   ]
  },
  {
   "cell_type": "markdown",
   "metadata": {},
   "source": [
    "**O valor do total de habitantes de São Luís é muito maior que as demais cidades, podendo da a ilusão que existe uma maioria de habitantes localizados no intervalo referente a classe de renda A, porém essa é uma realidade apenas de São Luís por ser capital e ter um mercado muito maior.**\n",
    "\n",
    "**Para mostrar a realidade geral do estado, é necessario remover os outliers presentes nesses dados.**"
   ]
  },
  {
   "cell_type": "code",
   "execution_count": 17,
   "metadata": {},
   "outputs": [],
   "source": [
    "Q1 = df_analise.total_habitantes.quantile(0.25)\n",
    "Q3 = df_analise.total_habitantes.quantile(0.75)\n",
    "IIQ = Q3-Q1\n",
    "limite_inferior = Q1 - 1.5 * IIQ\n",
    "limite_superior = Q3 + 1.5 * IIQ"
   ]
  },
  {
   "cell_type": "code",
   "execution_count": 19,
   "metadata": {},
   "outputs": [],
   "source": [
    "selecao = (df_analise.total_habitantes>=limite_inferior) & (df_analise.total_habitantes<=limite_superior)\n",
    "df_analise_new = df_analise[selecao]"
   ]
  },
  {
   "cell_type": "code",
   "execution_count": 20,
   "metadata": {},
   "outputs": [
    {
     "data": {
      "text/html": [
       "<div>\n",
       "<style scoped>\n",
       "    .dataframe tbody tr th:only-of-type {\n",
       "        vertical-align: middle;\n",
       "    }\n",
       "\n",
       "    .dataframe tbody tr th {\n",
       "        vertical-align: top;\n",
       "    }\n",
       "\n",
       "    .dataframe thead th {\n",
       "        text-align: right;\n",
       "    }\n",
       "</style>\n",
       "<table border=\"1\" class=\"dataframe\">\n",
       "  <thead>\n",
       "    <tr style=\"text-align: right;\">\n",
       "      <th></th>\n",
       "      <th>total_habitantes</th>\n",
       "    </tr>\n",
       "    <tr>\n",
       "      <th>classe_de_renda</th>\n",
       "      <th></th>\n",
       "    </tr>\n",
       "  </thead>\n",
       "  <tbody>\n",
       "    <tr>\n",
       "      <th>A</th>\n",
       "      <td>226586</td>\n",
       "    </tr>\n",
       "    <tr>\n",
       "      <th>B</th>\n",
       "      <td>736389</td>\n",
       "    </tr>\n",
       "    <tr>\n",
       "      <th>C</th>\n",
       "      <td>1727455</td>\n",
       "    </tr>\n",
       "    <tr>\n",
       "      <th>D</th>\n",
       "      <td>945873</td>\n",
       "    </tr>\n",
       "  </tbody>\n",
       "</table>\n",
       "</div>"
      ],
      "text/plain": [
       "                 total_habitantes\n",
       "classe_de_renda                  \n",
       "A                          226586\n",
       "B                          736389\n",
       "C                         1727455\n",
       "D                          945873"
      ]
     },
     "execution_count": 20,
     "metadata": {},
     "output_type": "execute_result"
    }
   ],
   "source": [
    "df_total_habitantes_por_classe_renda_sem_outliers = df_analise_new[['classe_de_renda','total_habitantes']].groupby(['classe_de_renda']).sum()\n",
    "df_total_habitantes_por_classe_renda_sem_outliers"
   ]
  },
  {
   "cell_type": "code",
   "execution_count": 29,
   "metadata": {},
   "outputs": [
    {
     "data": {
      "image/png": "[encoded data removed]",
      "text/plain": [
       "<Figure size 432x288 with 1 Axes>"
      ]
     },
     "metadata": {
      "needs_background": "light"
     },
     "output_type": "display_data"
    }
   ],
   "source": [
    "ax = sns.boxplot(y='total_habitantes',data=df_analise_new);"
   ]
  },
  {
   "cell_type": "code",
   "execution_count": 37,
   "metadata": {},
   "outputs": [
    {
     "data": {
      "image/png": "[encoded data removed]",
      "text/plain": [
       "<Figure size 1008x648 with 1 Axes>"
      ]
     },
     "metadata": {
      "needs_background": "light"
     },
     "output_type": "display_data"
    }
   ],
   "source": [
    "classes = df_total_habitantes_por_classe_renda_sem_outliers.index\n",
    "ax = sns.barplot(x=classes,y='total_habitantes',data=df_total_habitantes_por_classe_renda_sem_outliers)\n",
    "ax.figure.set_size_inches(14,9)"
   ]
  },
  {
   "cell_type": "markdown",
   "metadata": {},
   "source": [
    "**Removendo os outliers, podemos observar que a realidade do estado é de rendas no intervalo de D para B, onda o intervalo da classe de renda A que antes era maioria, com a remoção dos outliers, virou a menor.**\n",
    "\n",
    "**Como já foi mostrado antes, quanto as classes de renda de C e D tinham um índice de saneamento inadequado bem alto, como a maior parte da população vive nessas classes, então podemos concluir que uma boa parte da população maranhense convive com o saneamento inadequado.**"
   ]
  },
  {
   "cell_type": "markdown",
   "metadata": {},
   "source": [
    "# Conclusão"
   ]
  },
  {
   "cell_type": "markdown",
   "metadata": {},
   "source": [
    "**Com os dados que foram analisados e relacionados, podemos concluir que a questão do saneamento está ligada diretamente com a questão da renda e da localização do domicílio. Apesar de ter 17 tabelas que apresentam diferentes dados de diferentes situações da população maranhense, para a questão do saneamento, as 3 tabelas aqui analisadas representam em geral os principais fatores que afetam no saneamento básico que é a localização do domicílio e a renda média desse domicílio.**\n",
    "\n",
    "**Por isso, é essencial mapear essa áreas onde temos as maiores taxas de saneamento inadequado, buscando em áreas urbanas aqueles domicílios de renda média menor, e nas áreas rurais em geral, já que até domicílios com rendas acima da média, nesses locais podem ter uma taxa de saneamento inadequado alta também.**\n",
    "\n",
    "**Outras questões como alfabetização, pois estão ligadas diretamente com a renda também, então os domicílios de menor renda vão ser os com mais problemas em questão da alfabetização, apenas reafirmando o que já foi observado da alta taxa de saneamento inadequado nestes domicílios**"
   ]
  }
 ],
 "metadata": {
  "interpreter": {
   "hash": "fe85ba89296c5a2c9ae30362d65b06da0dbfb1d93059a21a7b21822ad4b56145"
  },
  "kernelspec": {
   "display_name": "Python 3",
   "language": "python",
   "name": "python3"
  },
  "language_info": {
   "codemirror_mode": {
    "name": "ipython",
    "version": 3
   },
   "file_extension": ".py",
   "mimetype": "text/x-python",
   "name": "python",
   "nbconvert_exporter": "python",
   "pygments_lexer": "ipython3",
   "version": "3.8.8"
  }
 },
 "nbformat": 4,
 "nbformat_minor": 4
}
